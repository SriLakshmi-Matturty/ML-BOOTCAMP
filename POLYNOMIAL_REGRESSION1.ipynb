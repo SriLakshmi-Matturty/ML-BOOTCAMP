{
  "nbformat": 4,
  "nbformat_minor": 0,
  "metadata": {
    "colab": {
      "provenance": []
    },
    "kernelspec": {
      "name": "python3",
      "display_name": "Python 3"
    },
    "language_info": {
      "name": "python"
    }
  },
  "cells": [
    {
      "cell_type": "code",
      "execution_count": null,
      "metadata": {
        "id": "_tF13l9BWCrk"
      },
      "outputs": [],
      "source": [
        "import numpy as np\n",
        "import pandas as pd\n",
        "import matplotlib.pyplot as plt"
      ]
    },
    {
      "cell_type": "code",
      "source": [
        "df_train=pd.read_csv('Polynomialdata_train.csv')\n",
        "df_train"
      ],
      "metadata": {
        "colab": {
          "base_uri": "https://localhost:8080/",
          "height": 423
        },
        "id": "j4jri5SvXWv9",
        "outputId": "953eadd5-9346-491a-cffc-76b5b1f9ee9b"
      },
      "execution_count": null,
      "outputs": [
        {
          "output_type": "execute_result",
          "data": {
            "text/plain": [
              "             target  feature 1  feature 2  feature 3\n",
              "0      4.131528e+06   5.221849   7.295111  95.716846\n",
              "1      3.172975e-01  -5.106284   4.220085  -6.172360\n",
              "2      4.676422e+04  -4.218053  -7.573823 -39.493884\n",
              "3      1.404175e+05 -18.439122  -2.275148 -40.885857\n",
              "4      4.788988e+03  13.353046   3.103837  18.622367\n",
              "...             ...        ...        ...        ...\n",
              "49995  1.853922e+04 -25.309264  -6.094516  75.361431\n",
              "49996  6.379917e+03 -58.016982  -6.064214  27.146387\n",
              "49997  3.835601e+06  29.857894   1.422973  75.620505\n",
              "49998  2.580318e+04  10.793146   1.215972  34.437761\n",
              "49999  3.468171e+05  12.171702  -0.798756  60.245990\n",
              "\n",
              "[50000 rows x 4 columns]"
            ],
            "text/html": [
              "\n",
              "  <div id=\"df-93de5c40-3653-4118-be05-53a8d5def00e\" class=\"colab-df-container\">\n",
              "    <div>\n",
              "<style scoped>\n",
              "    .dataframe tbody tr th:only-of-type {\n",
              "        vertical-align: middle;\n",
              "    }\n",
              "\n",
              "    .dataframe tbody tr th {\n",
              "        vertical-align: top;\n",
              "    }\n",
              "\n",
              "    .dataframe thead th {\n",
              "        text-align: right;\n",
              "    }\n",
              "</style>\n",
              "<table border=\"1\" class=\"dataframe\">\n",
              "  <thead>\n",
              "    <tr style=\"text-align: right;\">\n",
              "      <th></th>\n",
              "      <th>target</th>\n",
              "      <th>feature 1</th>\n",
              "      <th>feature 2</th>\n",
              "      <th>feature 3</th>\n",
              "    </tr>\n",
              "  </thead>\n",
              "  <tbody>\n",
              "    <tr>\n",
              "      <th>0</th>\n",
              "      <td>4.131528e+06</td>\n",
              "      <td>5.221849</td>\n",
              "      <td>7.295111</td>\n",
              "      <td>95.716846</td>\n",
              "    </tr>\n",
              "    <tr>\n",
              "      <th>1</th>\n",
              "      <td>3.172975e-01</td>\n",
              "      <td>-5.106284</td>\n",
              "      <td>4.220085</td>\n",
              "      <td>-6.172360</td>\n",
              "    </tr>\n",
              "    <tr>\n",
              "      <th>2</th>\n",
              "      <td>4.676422e+04</td>\n",
              "      <td>-4.218053</td>\n",
              "      <td>-7.573823</td>\n",
              "      <td>-39.493884</td>\n",
              "    </tr>\n",
              "    <tr>\n",
              "      <th>3</th>\n",
              "      <td>1.404175e+05</td>\n",
              "      <td>-18.439122</td>\n",
              "      <td>-2.275148</td>\n",
              "      <td>-40.885857</td>\n",
              "    </tr>\n",
              "    <tr>\n",
              "      <th>4</th>\n",
              "      <td>4.788988e+03</td>\n",
              "      <td>13.353046</td>\n",
              "      <td>3.103837</td>\n",
              "      <td>18.622367</td>\n",
              "    </tr>\n",
              "    <tr>\n",
              "      <th>...</th>\n",
              "      <td>...</td>\n",
              "      <td>...</td>\n",
              "      <td>...</td>\n",
              "      <td>...</td>\n",
              "    </tr>\n",
              "    <tr>\n",
              "      <th>49995</th>\n",
              "      <td>1.853922e+04</td>\n",
              "      <td>-25.309264</td>\n",
              "      <td>-6.094516</td>\n",
              "      <td>75.361431</td>\n",
              "    </tr>\n",
              "    <tr>\n",
              "      <th>49996</th>\n",
              "      <td>6.379917e+03</td>\n",
              "      <td>-58.016982</td>\n",
              "      <td>-6.064214</td>\n",
              "      <td>27.146387</td>\n",
              "    </tr>\n",
              "    <tr>\n",
              "      <th>49997</th>\n",
              "      <td>3.835601e+06</td>\n",
              "      <td>29.857894</td>\n",
              "      <td>1.422973</td>\n",
              "      <td>75.620505</td>\n",
              "    </tr>\n",
              "    <tr>\n",
              "      <th>49998</th>\n",
              "      <td>2.580318e+04</td>\n",
              "      <td>10.793146</td>\n",
              "      <td>1.215972</td>\n",
              "      <td>34.437761</td>\n",
              "    </tr>\n",
              "    <tr>\n",
              "      <th>49999</th>\n",
              "      <td>3.468171e+05</td>\n",
              "      <td>12.171702</td>\n",
              "      <td>-0.798756</td>\n",
              "      <td>60.245990</td>\n",
              "    </tr>\n",
              "  </tbody>\n",
              "</table>\n",
              "<p>50000 rows × 4 columns</p>\n",
              "</div>\n",
              "    <div class=\"colab-df-buttons\">\n",
              "\n",
              "  <div class=\"colab-df-container\">\n",
              "    <button class=\"colab-df-convert\" onclick=\"convertToInteractive('df-93de5c40-3653-4118-be05-53a8d5def00e')\"\n",
              "            title=\"Convert this dataframe to an interactive table.\"\n",
              "            style=\"display:none;\">\n",
              "\n",
              "  <svg xmlns=\"http://www.w3.org/2000/svg\" height=\"24px\" viewBox=\"0 -960 960 960\">\n",
              "    <path d=\"M120-120v-720h720v720H120Zm60-500h600v-160H180v160Zm220 220h160v-160H400v160Zm0 220h160v-160H400v160ZM180-400h160v-160H180v160Zm440 0h160v-160H620v160ZM180-180h160v-160H180v160Zm440 0h160v-160H620v160Z\"/>\n",
              "  </svg>\n",
              "    </button>\n",
              "\n",
              "  <style>\n",
              "    .colab-df-container {\n",
              "      display:flex;\n",
              "      gap: 12px;\n",
              "    }\n",
              "\n",
              "    .colab-df-convert {\n",
              "      background-color: #E8F0FE;\n",
              "      border: none;\n",
              "      border-radius: 50%;\n",
              "      cursor: pointer;\n",
              "      display: none;\n",
              "      fill: #1967D2;\n",
              "      height: 32px;\n",
              "      padding: 0 0 0 0;\n",
              "      width: 32px;\n",
              "    }\n",
              "\n",
              "    .colab-df-convert:hover {\n",
              "      background-color: #E2EBFA;\n",
              "      box-shadow: 0px 1px 2px rgba(60, 64, 67, 0.3), 0px 1px 3px 1px rgba(60, 64, 67, 0.15);\n",
              "      fill: #174EA6;\n",
              "    }\n",
              "\n",
              "    .colab-df-buttons div {\n",
              "      margin-bottom: 4px;\n",
              "    }\n",
              "\n",
              "    [theme=dark] .colab-df-convert {\n",
              "      background-color: #3B4455;\n",
              "      fill: #D2E3FC;\n",
              "    }\n",
              "\n",
              "    [theme=dark] .colab-df-convert:hover {\n",
              "      background-color: #434B5C;\n",
              "      box-shadow: 0px 1px 3px 1px rgba(0, 0, 0, 0.15);\n",
              "      filter: drop-shadow(0px 1px 2px rgba(0, 0, 0, 0.3));\n",
              "      fill: #FFFFFF;\n",
              "    }\n",
              "  </style>\n",
              "\n",
              "    <script>\n",
              "      const buttonEl =\n",
              "        document.querySelector('#df-93de5c40-3653-4118-be05-53a8d5def00e button.colab-df-convert');\n",
              "      buttonEl.style.display =\n",
              "        google.colab.kernel.accessAllowed ? 'block' : 'none';\n",
              "\n",
              "      async function convertToInteractive(key) {\n",
              "        const element = document.querySelector('#df-93de5c40-3653-4118-be05-53a8d5def00e');\n",
              "        const dataTable =\n",
              "          await google.colab.kernel.invokeFunction('convertToInteractive',\n",
              "                                                    [key], {});\n",
              "        if (!dataTable) return;\n",
              "\n",
              "        const docLinkHtml = 'Like what you see? Visit the ' +\n",
              "          '<a target=\"_blank\" href=https://colab.research.google.com/notebooks/data_table.ipynb>data table notebook</a>'\n",
              "          + ' to learn more about interactive tables.';\n",
              "        element.innerHTML = '';\n",
              "        dataTable['output_type'] = 'display_data';\n",
              "        await google.colab.output.renderOutput(dataTable, element);\n",
              "        const docLink = document.createElement('div');\n",
              "        docLink.innerHTML = docLinkHtml;\n",
              "        element.appendChild(docLink);\n",
              "      }\n",
              "    </script>\n",
              "  </div>\n",
              "\n",
              "\n",
              "<div id=\"df-66f418de-9c22-4dd7-a4df-9662cc8ddef3\">\n",
              "  <button class=\"colab-df-quickchart\" onclick=\"quickchart('df-66f418de-9c22-4dd7-a4df-9662cc8ddef3')\"\n",
              "            title=\"Suggest charts\"\n",
              "            style=\"display:none;\">\n",
              "\n",
              "<svg xmlns=\"http://www.w3.org/2000/svg\" height=\"24px\"viewBox=\"0 0 24 24\"\n",
              "     width=\"24px\">\n",
              "    <g>\n",
              "        <path d=\"M19 3H5c-1.1 0-2 .9-2 2v14c0 1.1.9 2 2 2h14c1.1 0 2-.9 2-2V5c0-1.1-.9-2-2-2zM9 17H7v-7h2v7zm4 0h-2V7h2v10zm4 0h-2v-4h2v4z\"/>\n",
              "    </g>\n",
              "</svg>\n",
              "  </button>\n",
              "\n",
              "<style>\n",
              "  .colab-df-quickchart {\n",
              "      --bg-color: #E8F0FE;\n",
              "      --fill-color: #1967D2;\n",
              "      --hover-bg-color: #E2EBFA;\n",
              "      --hover-fill-color: #174EA6;\n",
              "      --disabled-fill-color: #AAA;\n",
              "      --disabled-bg-color: #DDD;\n",
              "  }\n",
              "\n",
              "  [theme=dark] .colab-df-quickchart {\n",
              "      --bg-color: #3B4455;\n",
              "      --fill-color: #D2E3FC;\n",
              "      --hover-bg-color: #434B5C;\n",
              "      --hover-fill-color: #FFFFFF;\n",
              "      --disabled-bg-color: #3B4455;\n",
              "      --disabled-fill-color: #666;\n",
              "  }\n",
              "\n",
              "  .colab-df-quickchart {\n",
              "    background-color: var(--bg-color);\n",
              "    border: none;\n",
              "    border-radius: 50%;\n",
              "    cursor: pointer;\n",
              "    display: none;\n",
              "    fill: var(--fill-color);\n",
              "    height: 32px;\n",
              "    padding: 0;\n",
              "    width: 32px;\n",
              "  }\n",
              "\n",
              "  .colab-df-quickchart:hover {\n",
              "    background-color: var(--hover-bg-color);\n",
              "    box-shadow: 0 1px 2px rgba(60, 64, 67, 0.3), 0 1px 3px 1px rgba(60, 64, 67, 0.15);\n",
              "    fill: var(--button-hover-fill-color);\n",
              "  }\n",
              "\n",
              "  .colab-df-quickchart-complete:disabled,\n",
              "  .colab-df-quickchart-complete:disabled:hover {\n",
              "    background-color: var(--disabled-bg-color);\n",
              "    fill: var(--disabled-fill-color);\n",
              "    box-shadow: none;\n",
              "  }\n",
              "\n",
              "  .colab-df-spinner {\n",
              "    border: 2px solid var(--fill-color);\n",
              "    border-color: transparent;\n",
              "    border-bottom-color: var(--fill-color);\n",
              "    animation:\n",
              "      spin 1s steps(1) infinite;\n",
              "  }\n",
              "\n",
              "  @keyframes spin {\n",
              "    0% {\n",
              "      border-color: transparent;\n",
              "      border-bottom-color: var(--fill-color);\n",
              "      border-left-color: var(--fill-color);\n",
              "    }\n",
              "    20% {\n",
              "      border-color: transparent;\n",
              "      border-left-color: var(--fill-color);\n",
              "      border-top-color: var(--fill-color);\n",
              "    }\n",
              "    30% {\n",
              "      border-color: transparent;\n",
              "      border-left-color: var(--fill-color);\n",
              "      border-top-color: var(--fill-color);\n",
              "      border-right-color: var(--fill-color);\n",
              "    }\n",
              "    40% {\n",
              "      border-color: transparent;\n",
              "      border-right-color: var(--fill-color);\n",
              "      border-top-color: var(--fill-color);\n",
              "    }\n",
              "    60% {\n",
              "      border-color: transparent;\n",
              "      border-right-color: var(--fill-color);\n",
              "    }\n",
              "    80% {\n",
              "      border-color: transparent;\n",
              "      border-right-color: var(--fill-color);\n",
              "      border-bottom-color: var(--fill-color);\n",
              "    }\n",
              "    90% {\n",
              "      border-color: transparent;\n",
              "      border-bottom-color: var(--fill-color);\n",
              "    }\n",
              "  }\n",
              "</style>\n",
              "\n",
              "  <script>\n",
              "    async function quickchart(key) {\n",
              "      const quickchartButtonEl =\n",
              "        document.querySelector('#' + key + ' button');\n",
              "      quickchartButtonEl.disabled = true;  // To prevent multiple clicks.\n",
              "      quickchartButtonEl.classList.add('colab-df-spinner');\n",
              "      try {\n",
              "        const charts = await google.colab.kernel.invokeFunction(\n",
              "            'suggestCharts', [key], {});\n",
              "      } catch (error) {\n",
              "        console.error('Error during call to suggestCharts:', error);\n",
              "      }\n",
              "      quickchartButtonEl.classList.remove('colab-df-spinner');\n",
              "      quickchartButtonEl.classList.add('colab-df-quickchart-complete');\n",
              "    }\n",
              "    (() => {\n",
              "      let quickchartButtonEl =\n",
              "        document.querySelector('#df-66f418de-9c22-4dd7-a4df-9662cc8ddef3 button');\n",
              "      quickchartButtonEl.style.display =\n",
              "        google.colab.kernel.accessAllowed ? 'block' : 'none';\n",
              "    })();\n",
              "  </script>\n",
              "</div>\n",
              "    </div>\n",
              "  </div>\n"
            ]
          },
          "metadata": {},
          "execution_count": 2
        }
      ]
    },
    {
      "cell_type": "code",
      "source": [
        "x_train=df_train.drop(['target'],axis=1).values\n",
        "y_train=df_train['target'].values\n",
        "print(\"x_train=\",x_train)\n",
        "print(\"y_train=\",y_train)"
      ],
      "metadata": {
        "colab": {
          "base_uri": "https://localhost:8080/"
        },
        "id": "Z1Z5Y8bXXbA4",
        "outputId": "b96e5ffa-7dd5-4157-84af-bc167a372f14"
      },
      "execution_count": null,
      "outputs": [
        {
          "output_type": "stream",
          "name": "stdout",
          "text": [
            "x_train= [[  5.22184894   7.29511056  95.71684555]\n",
            " [ -5.10628445   4.22008546  -6.17236   ]\n",
            " [ -4.21805344  -7.57382297 -39.49388399]\n",
            " ...\n",
            " [ 29.85789417   1.42297302  75.62050543]\n",
            " [ 10.79314567   1.21597176  34.43776063]\n",
            " [ 12.17170222  -0.79875632  60.24598982]]\n",
            "y_train= [4.13152828e+06 3.17297454e-01 4.67642163e+04 ... 3.83560105e+06\n",
            " 2.58031768e+04 3.46817108e+05]\n"
          ]
        }
      ]
    },
    {
      "cell_type": "code",
      "source": [
        "mean_normalized_data_train = (df_train - df_train.mean()) / (df_train.max() - df_train.min())\n",
        "mean_normalized_data_train"
      ],
      "metadata": {
        "colab": {
          "base_uri": "https://localhost:8080/",
          "height": 423
        },
        "id": "tG3TxZYpFgUG",
        "outputId": "82624276-e1ae-4bf3-9827-e552ee279ff6"
      },
      "execution_count": null,
      "outputs": [
        {
          "output_type": "execute_result",
          "data": {
            "text/plain": [
              "         target  feature 1  feature 2  feature 3\n",
              "0      0.002810   0.026291   0.208766   0.198174\n",
              "1     -0.002113  -0.026724   0.120615  -0.012328\n",
              "2     -0.002057  -0.022164  -0.217475  -0.081170\n",
              "3     -0.001946  -0.095161  -0.065581  -0.084046\n",
              "4     -0.002107   0.068028   0.088616   0.038897\n",
              "...         ...        ...        ...        ...\n",
              "49995 -0.002091  -0.130425  -0.175069   0.156120\n",
              "49996 -0.002106  -0.298314  -0.174200   0.056508\n",
              "49997  0.002457   0.152747   0.040432   0.156655\n",
              "49998 -0.002082   0.054888   0.034498   0.071572\n",
              "49999 -0.001700   0.061964  -0.023258   0.124891\n",
              "\n",
              "[50000 rows x 4 columns]"
            ],
            "text/html": [
              "\n",
              "  <div id=\"df-db5b92a5-8002-43ab-a6ab-26ab4ba2e0d0\" class=\"colab-df-container\">\n",
              "    <div>\n",
              "<style scoped>\n",
              "    .dataframe tbody tr th:only-of-type {\n",
              "        vertical-align: middle;\n",
              "    }\n",
              "\n",
              "    .dataframe tbody tr th {\n",
              "        vertical-align: top;\n",
              "    }\n",
              "\n",
              "    .dataframe thead th {\n",
              "        text-align: right;\n",
              "    }\n",
              "</style>\n",
              "<table border=\"1\" class=\"dataframe\">\n",
              "  <thead>\n",
              "    <tr style=\"text-align: right;\">\n",
              "      <th></th>\n",
              "      <th>target</th>\n",
              "      <th>feature 1</th>\n",
              "      <th>feature 2</th>\n",
              "      <th>feature 3</th>\n",
              "    </tr>\n",
              "  </thead>\n",
              "  <tbody>\n",
              "    <tr>\n",
              "      <th>0</th>\n",
              "      <td>0.002810</td>\n",
              "      <td>0.026291</td>\n",
              "      <td>0.208766</td>\n",
              "      <td>0.198174</td>\n",
              "    </tr>\n",
              "    <tr>\n",
              "      <th>1</th>\n",
              "      <td>-0.002113</td>\n",
              "      <td>-0.026724</td>\n",
              "      <td>0.120615</td>\n",
              "      <td>-0.012328</td>\n",
              "    </tr>\n",
              "    <tr>\n",
              "      <th>2</th>\n",
              "      <td>-0.002057</td>\n",
              "      <td>-0.022164</td>\n",
              "      <td>-0.217475</td>\n",
              "      <td>-0.081170</td>\n",
              "    </tr>\n",
              "    <tr>\n",
              "      <th>3</th>\n",
              "      <td>-0.001946</td>\n",
              "      <td>-0.095161</td>\n",
              "      <td>-0.065581</td>\n",
              "      <td>-0.084046</td>\n",
              "    </tr>\n",
              "    <tr>\n",
              "      <th>4</th>\n",
              "      <td>-0.002107</td>\n",
              "      <td>0.068028</td>\n",
              "      <td>0.088616</td>\n",
              "      <td>0.038897</td>\n",
              "    </tr>\n",
              "    <tr>\n",
              "      <th>...</th>\n",
              "      <td>...</td>\n",
              "      <td>...</td>\n",
              "      <td>...</td>\n",
              "      <td>...</td>\n",
              "    </tr>\n",
              "    <tr>\n",
              "      <th>49995</th>\n",
              "      <td>-0.002091</td>\n",
              "      <td>-0.130425</td>\n",
              "      <td>-0.175069</td>\n",
              "      <td>0.156120</td>\n",
              "    </tr>\n",
              "    <tr>\n",
              "      <th>49996</th>\n",
              "      <td>-0.002106</td>\n",
              "      <td>-0.298314</td>\n",
              "      <td>-0.174200</td>\n",
              "      <td>0.056508</td>\n",
              "    </tr>\n",
              "    <tr>\n",
              "      <th>49997</th>\n",
              "      <td>0.002457</td>\n",
              "      <td>0.152747</td>\n",
              "      <td>0.040432</td>\n",
              "      <td>0.156655</td>\n",
              "    </tr>\n",
              "    <tr>\n",
              "      <th>49998</th>\n",
              "      <td>-0.002082</td>\n",
              "      <td>0.054888</td>\n",
              "      <td>0.034498</td>\n",
              "      <td>0.071572</td>\n",
              "    </tr>\n",
              "    <tr>\n",
              "      <th>49999</th>\n",
              "      <td>-0.001700</td>\n",
              "      <td>0.061964</td>\n",
              "      <td>-0.023258</td>\n",
              "      <td>0.124891</td>\n",
              "    </tr>\n",
              "  </tbody>\n",
              "</table>\n",
              "<p>50000 rows × 4 columns</p>\n",
              "</div>\n",
              "    <div class=\"colab-df-buttons\">\n",
              "\n",
              "  <div class=\"colab-df-container\">\n",
              "    <button class=\"colab-df-convert\" onclick=\"convertToInteractive('df-db5b92a5-8002-43ab-a6ab-26ab4ba2e0d0')\"\n",
              "            title=\"Convert this dataframe to an interactive table.\"\n",
              "            style=\"display:none;\">\n",
              "\n",
              "  <svg xmlns=\"http://www.w3.org/2000/svg\" height=\"24px\" viewBox=\"0 -960 960 960\">\n",
              "    <path d=\"M120-120v-720h720v720H120Zm60-500h600v-160H180v160Zm220 220h160v-160H400v160Zm0 220h160v-160H400v160ZM180-400h160v-160H180v160Zm440 0h160v-160H620v160ZM180-180h160v-160H180v160Zm440 0h160v-160H620v160Z\"/>\n",
              "  </svg>\n",
              "    </button>\n",
              "\n",
              "  <style>\n",
              "    .colab-df-container {\n",
              "      display:flex;\n",
              "      gap: 12px;\n",
              "    }\n",
              "\n",
              "    .colab-df-convert {\n",
              "      background-color: #E8F0FE;\n",
              "      border: none;\n",
              "      border-radius: 50%;\n",
              "      cursor: pointer;\n",
              "      display: none;\n",
              "      fill: #1967D2;\n",
              "      height: 32px;\n",
              "      padding: 0 0 0 0;\n",
              "      width: 32px;\n",
              "    }\n",
              "\n",
              "    .colab-df-convert:hover {\n",
              "      background-color: #E2EBFA;\n",
              "      box-shadow: 0px 1px 2px rgba(60, 64, 67, 0.3), 0px 1px 3px 1px rgba(60, 64, 67, 0.15);\n",
              "      fill: #174EA6;\n",
              "    }\n",
              "\n",
              "    .colab-df-buttons div {\n",
              "      margin-bottom: 4px;\n",
              "    }\n",
              "\n",
              "    [theme=dark] .colab-df-convert {\n",
              "      background-color: #3B4455;\n",
              "      fill: #D2E3FC;\n",
              "    }\n",
              "\n",
              "    [theme=dark] .colab-df-convert:hover {\n",
              "      background-color: #434B5C;\n",
              "      box-shadow: 0px 1px 3px 1px rgba(0, 0, 0, 0.15);\n",
              "      filter: drop-shadow(0px 1px 2px rgba(0, 0, 0, 0.3));\n",
              "      fill: #FFFFFF;\n",
              "    }\n",
              "  </style>\n",
              "\n",
              "    <script>\n",
              "      const buttonEl =\n",
              "        document.querySelector('#df-db5b92a5-8002-43ab-a6ab-26ab4ba2e0d0 button.colab-df-convert');\n",
              "      buttonEl.style.display =\n",
              "        google.colab.kernel.accessAllowed ? 'block' : 'none';\n",
              "\n",
              "      async function convertToInteractive(key) {\n",
              "        const element = document.querySelector('#df-db5b92a5-8002-43ab-a6ab-26ab4ba2e0d0');\n",
              "        const dataTable =\n",
              "          await google.colab.kernel.invokeFunction('convertToInteractive',\n",
              "                                                    [key], {});\n",
              "        if (!dataTable) return;\n",
              "\n",
              "        const docLinkHtml = 'Like what you see? Visit the ' +\n",
              "          '<a target=\"_blank\" href=https://colab.research.google.com/notebooks/data_table.ipynb>data table notebook</a>'\n",
              "          + ' to learn more about interactive tables.';\n",
              "        element.innerHTML = '';\n",
              "        dataTable['output_type'] = 'display_data';\n",
              "        await google.colab.output.renderOutput(dataTable, element);\n",
              "        const docLink = document.createElement('div');\n",
              "        docLink.innerHTML = docLinkHtml;\n",
              "        element.appendChild(docLink);\n",
              "      }\n",
              "    </script>\n",
              "  </div>\n",
              "\n",
              "\n",
              "<div id=\"df-6f5cda5b-149a-442f-8c21-590995ee09a5\">\n",
              "  <button class=\"colab-df-quickchart\" onclick=\"quickchart('df-6f5cda5b-149a-442f-8c21-590995ee09a5')\"\n",
              "            title=\"Suggest charts\"\n",
              "            style=\"display:none;\">\n",
              "\n",
              "<svg xmlns=\"http://www.w3.org/2000/svg\" height=\"24px\"viewBox=\"0 0 24 24\"\n",
              "     width=\"24px\">\n",
              "    <g>\n",
              "        <path d=\"M19 3H5c-1.1 0-2 .9-2 2v14c0 1.1.9 2 2 2h14c1.1 0 2-.9 2-2V5c0-1.1-.9-2-2-2zM9 17H7v-7h2v7zm4 0h-2V7h2v10zm4 0h-2v-4h2v4z\"/>\n",
              "    </g>\n",
              "</svg>\n",
              "  </button>\n",
              "\n",
              "<style>\n",
              "  .colab-df-quickchart {\n",
              "      --bg-color: #E8F0FE;\n",
              "      --fill-color: #1967D2;\n",
              "      --hover-bg-color: #E2EBFA;\n",
              "      --hover-fill-color: #174EA6;\n",
              "      --disabled-fill-color: #AAA;\n",
              "      --disabled-bg-color: #DDD;\n",
              "  }\n",
              "\n",
              "  [theme=dark] .colab-df-quickchart {\n",
              "      --bg-color: #3B4455;\n",
              "      --fill-color: #D2E3FC;\n",
              "      --hover-bg-color: #434B5C;\n",
              "      --hover-fill-color: #FFFFFF;\n",
              "      --disabled-bg-color: #3B4455;\n",
              "      --disabled-fill-color: #666;\n",
              "  }\n",
              "\n",
              "  .colab-df-quickchart {\n",
              "    background-color: var(--bg-color);\n",
              "    border: none;\n",
              "    border-radius: 50%;\n",
              "    cursor: pointer;\n",
              "    display: none;\n",
              "    fill: var(--fill-color);\n",
              "    height: 32px;\n",
              "    padding: 0;\n",
              "    width: 32px;\n",
              "  }\n",
              "\n",
              "  .colab-df-quickchart:hover {\n",
              "    background-color: var(--hover-bg-color);\n",
              "    box-shadow: 0 1px 2px rgba(60, 64, 67, 0.3), 0 1px 3px 1px rgba(60, 64, 67, 0.15);\n",
              "    fill: var(--button-hover-fill-color);\n",
              "  }\n",
              "\n",
              "  .colab-df-quickchart-complete:disabled,\n",
              "  .colab-df-quickchart-complete:disabled:hover {\n",
              "    background-color: var(--disabled-bg-color);\n",
              "    fill: var(--disabled-fill-color);\n",
              "    box-shadow: none;\n",
              "  }\n",
              "\n",
              "  .colab-df-spinner {\n",
              "    border: 2px solid var(--fill-color);\n",
              "    border-color: transparent;\n",
              "    border-bottom-color: var(--fill-color);\n",
              "    animation:\n",
              "      spin 1s steps(1) infinite;\n",
              "  }\n",
              "\n",
              "  @keyframes spin {\n",
              "    0% {\n",
              "      border-color: transparent;\n",
              "      border-bottom-color: var(--fill-color);\n",
              "      border-left-color: var(--fill-color);\n",
              "    }\n",
              "    20% {\n",
              "      border-color: transparent;\n",
              "      border-left-color: var(--fill-color);\n",
              "      border-top-color: var(--fill-color);\n",
              "    }\n",
              "    30% {\n",
              "      border-color: transparent;\n",
              "      border-left-color: var(--fill-color);\n",
              "      border-top-color: var(--fill-color);\n",
              "      border-right-color: var(--fill-color);\n",
              "    }\n",
              "    40% {\n",
              "      border-color: transparent;\n",
              "      border-right-color: var(--fill-color);\n",
              "      border-top-color: var(--fill-color);\n",
              "    }\n",
              "    60% {\n",
              "      border-color: transparent;\n",
              "      border-right-color: var(--fill-color);\n",
              "    }\n",
              "    80% {\n",
              "      border-color: transparent;\n",
              "      border-right-color: var(--fill-color);\n",
              "      border-bottom-color: var(--fill-color);\n",
              "    }\n",
              "    90% {\n",
              "      border-color: transparent;\n",
              "      border-bottom-color: var(--fill-color);\n",
              "    }\n",
              "  }\n",
              "</style>\n",
              "\n",
              "  <script>\n",
              "    async function quickchart(key) {\n",
              "      const quickchartButtonEl =\n",
              "        document.querySelector('#' + key + ' button');\n",
              "      quickchartButtonEl.disabled = true;  // To prevent multiple clicks.\n",
              "      quickchartButtonEl.classList.add('colab-df-spinner');\n",
              "      try {\n",
              "        const charts = await google.colab.kernel.invokeFunction(\n",
              "            'suggestCharts', [key], {});\n",
              "      } catch (error) {\n",
              "        console.error('Error during call to suggestCharts:', error);\n",
              "      }\n",
              "      quickchartButtonEl.classList.remove('colab-df-spinner');\n",
              "      quickchartButtonEl.classList.add('colab-df-quickchart-complete');\n",
              "    }\n",
              "    (() => {\n",
              "      let quickchartButtonEl =\n",
              "        document.querySelector('#df-6f5cda5b-149a-442f-8c21-590995ee09a5 button');\n",
              "      quickchartButtonEl.style.display =\n",
              "        google.colab.kernel.accessAllowed ? 'block' : 'none';\n",
              "    })();\n",
              "  </script>\n",
              "</div>\n",
              "    </div>\n",
              "  </div>\n"
            ]
          },
          "metadata": {},
          "execution_count": 4
        }
      ]
    },
    {
      "cell_type": "code",
      "source": [
        "# Plot original train data\n",
        "plt.figure(figsize=(10, 5))\n",
        "plt.subplot(1, 2, 1)\n",
        "plt.scatter(df_train['feature 1'], df_train['feature 2'])\n",
        "plt.title('Original Train Data')\n",
        "plt.xlabel('Feature1')\n",
        "plt.ylabel('Feature2')\n",
        "\n",
        "# Plot normalized train data\n",
        "plt.subplot(1, 2, 2)\n",
        "plt.scatter(mean_normalized_data_train['feature 1'], mean_normalized_data_train['feature 2'])\n",
        "plt.title('Mean Normalized Train Data')\n",
        "plt.xlabel('Feature1')\n",
        "plt.ylabel('Feature2')\n",
        "\n",
        "plt.tight_layout()\n",
        "plt.show()"
      ],
      "metadata": {
        "colab": {
          "base_uri": "https://localhost:8080/",
          "height": 507
        },
        "id": "jHBz66MHarRM",
        "outputId": "55231f8b-d7b8-444c-a7b7-20e7300be923"
      },
      "execution_count": null,
      "outputs": [
        {
          "output_type": "display_data",
          "data": {
            "text/plain": [
              "<Figure size 1000x500 with 2 Axes>"
            ],
            "image/png": "[encoded data removed]"
          },
          "metadata": {}
        }
      ]
    },
    {
      "cell_type": "code",
      "source": [
        "x_train_1=mean_normalized_data_train.drop(['target'],axis=1).values\n",
        "Y_train=mean_normalized_data_train['target'].values\n",
        "x_train_1.shape"
      ],
      "metadata": {
        "colab": {
          "base_uri": "https://localhost:8080/"
        },
        "id": "Nxd97iwfa6pl",
        "outputId": "97318645-df93-46d1-b89b-7508f88200ed"
      },
      "execution_count": null,
      "outputs": [
        {
          "output_type": "execute_result",
          "data": {
            "text/plain": [
              "(50000, 3)"
            ]
          },
          "metadata": {},
          "execution_count": 42
        }
      ]
    },
    {
      "cell_type": "code",
      "source": [
        "df_test=pd.read_csv('Polynomialdata_test.csv')\n",
        "df_test"
      ],
      "metadata": {
        "colab": {
          "base_uri": "https://localhost:8080/",
          "height": 423
        },
        "id": "npQTffcVbWGi",
        "outputId": "1e3527d8-5b84-42a6-aa35-c678d067aaf2"
      },
      "execution_count": null,
      "outputs": [
        {
          "output_type": "execute_result",
          "data": {
            "text/plain": [
              "         ID  feature 1  feature 2  feature 3\n",
              "0     16588  36.247643  -2.372704  43.835947\n",
              "1     17513   5.903779   5.460086 -96.149414\n",
              "2     14448 -37.298157   6.869786 -14.084487\n",
              "3     13972 -40.080077   2.395066 -43.432941\n",
              "4     18321 -20.417799  -2.194459   5.737226\n",
              "...     ...        ...        ...        ...\n",
              "9995  19691 -13.571554   2.931176  76.902716\n",
              "9996  10512  -2.015904  -2.827700   4.999604\n",
              "9997  17741  47.095192  -1.977461  39.044902\n",
              "9998  18381  -1.808178  -0.693782  57.918628\n",
              "9999  12054  19.958034   2.294516 -16.082546\n",
              "\n",
              "[10000 rows x 4 columns]"
            ],
            "text/html": [
              "\n",
              "  <div id=\"df-d027f15f-e270-451f-945e-08bedac42d53\" class=\"colab-df-container\">\n",
              "    <div>\n",
              "<style scoped>\n",
              "    .dataframe tbody tr th:only-of-type {\n",
              "        vertical-align: middle;\n",
              "    }\n",
              "\n",
              "    .dataframe tbody tr th {\n",
              "        vertical-align: top;\n",
              "    }\n",
              "\n",
              "    .dataframe thead th {\n",
              "        text-align: right;\n",
              "    }\n",
              "</style>\n",
              "<table border=\"1\" class=\"dataframe\">\n",
              "  <thead>\n",
              "    <tr style=\"text-align: right;\">\n",
              "      <th></th>\n",
              "      <th>ID</th>\n",
              "      <th>feature 1</th>\n",
              "      <th>feature 2</th>\n",
              "      <th>feature 3</th>\n",
              "    </tr>\n",
              "  </thead>\n",
              "  <tbody>\n",
              "    <tr>\n",
              "      <th>0</th>\n",
              "      <td>16588</td>\n",
              "      <td>36.247643</td>\n",
              "      <td>-2.372704</td>\n",
              "      <td>43.835947</td>\n",
              "    </tr>\n",
              "    <tr>\n",
              "      <th>1</th>\n",
              "      <td>17513</td>\n",
              "      <td>5.903779</td>\n",
              "      <td>5.460086</td>\n",
              "      <td>-96.149414</td>\n",
              "    </tr>\n",
              "    <tr>\n",
              "      <th>2</th>\n",
              "      <td>14448</td>\n",
              "      <td>-37.298157</td>\n",
              "      <td>6.869786</td>\n",
              "      <td>-14.084487</td>\n",
              "    </tr>\n",
              "    <tr>\n",
              "      <th>3</th>\n",
              "      <td>13972</td>\n",
              "      <td>-40.080077</td>\n",
              "      <td>2.395066</td>\n",
              "      <td>-43.432941</td>\n",
              "    </tr>\n",
              "    <tr>\n",
              "      <th>4</th>\n",
              "      <td>18321</td>\n",
              "      <td>-20.417799</td>\n",
              "      <td>-2.194459</td>\n",
              "      <td>5.737226</td>\n",
              "    </tr>\n",
              "    <tr>\n",
              "      <th>...</th>\n",
              "      <td>...</td>\n",
              "      <td>...</td>\n",
              "      <td>...</td>\n",
              "      <td>...</td>\n",
              "    </tr>\n",
              "    <tr>\n",
              "      <th>9995</th>\n",
              "      <td>19691</td>\n",
              "      <td>-13.571554</td>\n",
              "      <td>2.931176</td>\n",
              "      <td>76.902716</td>\n",
              "    </tr>\n",
              "    <tr>\n",
              "      <th>9996</th>\n",
              "      <td>10512</td>\n",
              "      <td>-2.015904</td>\n",
              "      <td>-2.827700</td>\n",
              "      <td>4.999604</td>\n",
              "    </tr>\n",
              "    <tr>\n",
              "      <th>9997</th>\n",
              "      <td>17741</td>\n",
              "      <td>47.095192</td>\n",
              "      <td>-1.977461</td>\n",
              "      <td>39.044902</td>\n",
              "    </tr>\n",
              "    <tr>\n",
              "      <th>9998</th>\n",
              "      <td>18381</td>\n",
              "      <td>-1.808178</td>\n",
              "      <td>-0.693782</td>\n",
              "      <td>57.918628</td>\n",
              "    </tr>\n",
              "    <tr>\n",
              "      <th>9999</th>\n",
              "      <td>12054</td>\n",
              "      <td>19.958034</td>\n",
              "      <td>2.294516</td>\n",
              "      <td>-16.082546</td>\n",
              "    </tr>\n",
              "  </tbody>\n",
              "</table>\n",
              "<p>10000 rows × 4 columns</p>\n",
              "</div>\n",
              "    <div class=\"colab-df-buttons\">\n",
              "\n",
              "  <div class=\"colab-df-container\">\n",
              "    <button class=\"colab-df-convert\" onclick=\"convertToInteractive('df-d027f15f-e270-451f-945e-08bedac42d53')\"\n",
              "            title=\"Convert this dataframe to an interactive table.\"\n",
              "            style=\"display:none;\">\n",
              "\n",
              "  <svg xmlns=\"http://www.w3.org/2000/svg\" height=\"24px\" viewBox=\"0 -960 960 960\">\n",
              "    <path d=\"M120-120v-720h720v720H120Zm60-500h600v-160H180v160Zm220 220h160v-160H400v160Zm0 220h160v-160H400v160ZM180-400h160v-160H180v160Zm440 0h160v-160H620v160ZM180-180h160v-160H180v160Zm440 0h160v-160H620v160Z\"/>\n",
              "  </svg>\n",
              "    </button>\n",
              "\n",
              "  <style>\n",
              "    .colab-df-container {\n",
              "      display:flex;\n",
              "      gap: 12px;\n",
              "    }\n",
              "\n",
              "    .colab-df-convert {\n",
              "      background-color: #E8F0FE;\n",
              "      border: none;\n",
              "      border-radius: 50%;\n",
              "      cursor: pointer;\n",
              "      display: none;\n",
              "      fill: #1967D2;\n",
              "      height: 32px;\n",
              "      padding: 0 0 0 0;\n",
              "      width: 32px;\n",
              "    }\n",
              "\n",
              "    .colab-df-convert:hover {\n",
              "      background-color: #E2EBFA;\n",
              "      box-shadow: 0px 1px 2px rgba(60, 64, 67, 0.3), 0px 1px 3px 1px rgba(60, 64, 67, 0.15);\n",
              "      fill: #174EA6;\n",
              "    }\n",
              "\n",
              "    .colab-df-buttons div {\n",
              "      margin-bottom: 4px;\n",
              "    }\n",
              "\n",
              "    [theme=dark] .colab-df-convert {\n",
              "      background-color: #3B4455;\n",
              "      fill: #D2E3FC;\n",
              "    }\n",
              "\n",
              "    [theme=dark] .colab-df-convert:hover {\n",
              "      background-color: #434B5C;\n",
              "      box-shadow: 0px 1px 3px 1px rgba(0, 0, 0, 0.15);\n",
              "      filter: drop-shadow(0px 1px 2px rgba(0, 0, 0, 0.3));\n",
              "      fill: #FFFFFF;\n",
              "    }\n",
              "  </style>\n",
              "\n",
              "    <script>\n",
              "      const buttonEl =\n",
              "        document.querySelector('#df-d027f15f-e270-451f-945e-08bedac42d53 button.colab-df-convert');\n",
              "      buttonEl.style.display =\n",
              "        google.colab.kernel.accessAllowed ? 'block' : 'none';\n",
              "\n",
              "      async function convertToInteractive(key) {\n",
              "        const element = document.querySelector('#df-d027f15f-e270-451f-945e-08bedac42d53');\n",
              "        const dataTable =\n",
              "          await google.colab.kernel.invokeFunction('convertToInteractive',\n",
              "                                                    [key], {});\n",
              "        if (!dataTable) return;\n",
              "\n",
              "        const docLinkHtml = 'Like what you see? Visit the ' +\n",
              "          '<a target=\"_blank\" href=https://colab.research.google.com/notebooks/data_table.ipynb>data table notebook</a>'\n",
              "          + ' to learn more about interactive tables.';\n",
              "        element.innerHTML = '';\n",
              "        dataTable['output_type'] = 'display_data';\n",
              "        await google.colab.output.renderOutput(dataTable, element);\n",
              "        const docLink = document.createElement('div');\n",
              "        docLink.innerHTML = docLinkHtml;\n",
              "        element.appendChild(docLink);\n",
              "      }\n",
              "    </script>\n",
              "  </div>\n",
              "\n",
              "\n",
              "<div id=\"df-82e41486-b014-4152-a44c-17782aa9bf93\">\n",
              "  <button class=\"colab-df-quickchart\" onclick=\"quickchart('df-82e41486-b014-4152-a44c-17782aa9bf93')\"\n",
              "            title=\"Suggest charts\"\n",
              "            style=\"display:none;\">\n",
              "\n",
              "<svg xmlns=\"http://www.w3.org/2000/svg\" height=\"24px\"viewBox=\"0 0 24 24\"\n",
              "     width=\"24px\">\n",
              "    <g>\n",
              "        <path d=\"M19 3H5c-1.1 0-2 .9-2 2v14c0 1.1.9 2 2 2h14c1.1 0 2-.9 2-2V5c0-1.1-.9-2-2-2zM9 17H7v-7h2v7zm4 0h-2V7h2v10zm4 0h-2v-4h2v4z\"/>\n",
              "    </g>\n",
              "</svg>\n",
              "  </button>\n",
              "\n",
              "<style>\n",
              "  .colab-df-quickchart {\n",
              "      --bg-color: #E8F0FE;\n",
              "      --fill-color: #1967D2;\n",
              "      --hover-bg-color: #E2EBFA;\n",
              "      --hover-fill-color: #174EA6;\n",
              "      --disabled-fill-color: #AAA;\n",
              "      --disabled-bg-color: #DDD;\n",
              "  }\n",
              "\n",
              "  [theme=dark] .colab-df-quickchart {\n",
              "      --bg-color: #3B4455;\n",
              "      --fill-color: #D2E3FC;\n",
              "      --hover-bg-color: #434B5C;\n",
              "      --hover-fill-color: #FFFFFF;\n",
              "      --disabled-bg-color: #3B4455;\n",
              "      --disabled-fill-color: #666;\n",
              "  }\n",
              "\n",
              "  .colab-df-quickchart {\n",
              "    background-color: var(--bg-color);\n",
              "    border: none;\n",
              "    border-radius: 50%;\n",
              "    cursor: pointer;\n",
              "    display: none;\n",
              "    fill: var(--fill-color);\n",
              "    height: 32px;\n",
              "    padding: 0;\n",
              "    width: 32px;\n",
              "  }\n",
              "\n",
              "  .colab-df-quickchart:hover {\n",
              "    background-color: var(--hover-bg-color);\n",
              "    box-shadow: 0 1px 2px rgba(60, 64, 67, 0.3), 0 1px 3px 1px rgba(60, 64, 67, 0.15);\n",
              "    fill: var(--button-hover-fill-color);\n",
              "  }\n",
              "\n",
              "  .colab-df-quickchart-complete:disabled,\n",
              "  .colab-df-quickchart-complete:disabled:hover {\n",
              "    background-color: var(--disabled-bg-color);\n",
              "    fill: var(--disabled-fill-color);\n",
              "    box-shadow: none;\n",
              "  }\n",
              "\n",
              "  .colab-df-spinner {\n",
              "    border: 2px solid var(--fill-color);\n",
              "    border-color: transparent;\n",
              "    border-bottom-color: var(--fill-color);\n",
              "    animation:\n",
              "      spin 1s steps(1) infinite;\n",
              "  }\n",
              "\n",
              "  @keyframes spin {\n",
              "    0% {\n",
              "      border-color: transparent;\n",
              "      border-bottom-color: var(--fill-color);\n",
              "      border-left-color: var(--fill-color);\n",
              "    }\n",
              "    20% {\n",
              "      border-color: transparent;\n",
              "      border-left-color: var(--fill-color);\n",
              "      border-top-color: var(--fill-color);\n",
              "    }\n",
              "    30% {\n",
              "      border-color: transparent;\n",
              "      border-left-color: var(--fill-color);\n",
              "      border-top-color: var(--fill-color);\n",
              "      border-right-color: var(--fill-color);\n",
              "    }\n",
              "    40% {\n",
              "      border-color: transparent;\n",
              "      border-right-color: var(--fill-color);\n",
              "      border-top-color: var(--fill-color);\n",
              "    }\n",
              "    60% {\n",
              "      border-color: transparent;\n",
              "      border-right-color: var(--fill-color);\n",
              "    }\n",
              "    80% {\n",
              "      border-color: transparent;\n",
              "      border-right-color: var(--fill-color);\n",
              "      border-bottom-color: var(--fill-color);\n",
              "    }\n",
              "    90% {\n",
              "      border-color: transparent;\n",
              "      border-bottom-color: var(--fill-color);\n",
              "    }\n",
              "  }\n",
              "</style>\n",
              "\n",
              "  <script>\n",
              "    async function quickchart(key) {\n",
              "      const quickchartButtonEl =\n",
              "        document.querySelector('#' + key + ' button');\n",
              "      quickchartButtonEl.disabled = true;  // To prevent multiple clicks.\n",
              "      quickchartButtonEl.classList.add('colab-df-spinner');\n",
              "      try {\n",
              "        const charts = await google.colab.kernel.invokeFunction(\n",
              "            'suggestCharts', [key], {});\n",
              "      } catch (error) {\n",
              "        console.error('Error during call to suggestCharts:', error);\n",
              "      }\n",
              "      quickchartButtonEl.classList.remove('colab-df-spinner');\n",
              "      quickchartButtonEl.classList.add('colab-df-quickchart-complete');\n",
              "    }\n",
              "    (() => {\n",
              "      let quickchartButtonEl =\n",
              "        document.querySelector('#df-82e41486-b014-4152-a44c-17782aa9bf93 button');\n",
              "      quickchartButtonEl.style.display =\n",
              "        google.colab.kernel.accessAllowed ? 'block' : 'none';\n",
              "    })();\n",
              "  </script>\n",
              "</div>\n",
              "    </div>\n",
              "  </div>\n"
            ]
          },
          "metadata": {},
          "execution_count": 7
        }
      ]
    },
    {
      "cell_type": "code",
      "source": [
        "mean_normalized_data_test = (df_test - df_test.mean()) / (df_test.max() - df_test.min())\n",
        "mean_normalized_data_test"
      ],
      "metadata": {
        "colab": {
          "base_uri": "https://localhost:8080/",
          "height": 423
        },
        "id": "QWauO3oWbwRM",
        "outputId": "f2172ed1-fa35-4111-e0ff-7c127c6824a1"
      },
      "execution_count": null,
      "outputs": [
        {
          "output_type": "execute_result",
          "data": {
            "text/plain": [
              "            ID  feature 1  feature 2  feature 3\n",
              "0     0.155176   0.201789  -0.075845   0.104657\n",
              "1     0.247704   0.033147   0.177575  -0.233381\n",
              "2    -0.058888  -0.206956   0.223184  -0.035210\n",
              "3    -0.106502  -0.222417   0.078410  -0.106081\n",
              "4     0.328528  -0.113140  -0.070078   0.012656\n",
              "...        ...        ...        ...        ...\n",
              "9995  0.465569  -0.075091   0.095755   0.184507\n",
              "9996 -0.452606  -0.010868  -0.090566   0.010874\n",
              "9997  0.270511   0.262076  -0.063057   0.093087\n",
              "9998  0.334530  -0.009714  -0.021526   0.138664\n",
              "9999 -0.298360   0.111256   0.075157  -0.040035\n",
              "\n",
              "[10000 rows x 4 columns]"
            ],
            "text/html": [
              "\n",
              "  <div id=\"df-273fda5c-e8c0-49d1-91af-8eb83cf20677\" class=\"colab-df-container\">\n",
              "    <div>\n",
              "<style scoped>\n",
              "    .dataframe tbody tr th:only-of-type {\n",
              "        vertical-align: middle;\n",
              "    }\n",
              "\n",
              "    .dataframe tbody tr th {\n",
              "        vertical-align: top;\n",
              "    }\n",
              "\n",
              "    .dataframe thead th {\n",
              "        text-align: right;\n",
              "    }\n",
              "</style>\n",
              "<table border=\"1\" class=\"dataframe\">\n",
              "  <thead>\n",
              "    <tr style=\"text-align: right;\">\n",
              "      <th></th>\n",
              "      <th>ID</th>\n",
              "      <th>feature 1</th>\n",
              "      <th>feature 2</th>\n",
              "      <th>feature 3</th>\n",
              "    </tr>\n",
              "  </thead>\n",
              "  <tbody>\n",
              "    <tr>\n",
              "      <th>0</th>\n",
              "      <td>0.155176</td>\n",
              "      <td>0.201789</td>\n",
              "      <td>-0.075845</td>\n",
              "      <td>0.104657</td>\n",
              "    </tr>\n",
              "    <tr>\n",
              "      <th>1</th>\n",
              "      <td>0.247704</td>\n",
              "      <td>0.033147</td>\n",
              "      <td>0.177575</td>\n",
              "      <td>-0.233381</td>\n",
              "    </tr>\n",
              "    <tr>\n",
              "      <th>2</th>\n",
              "      <td>-0.058888</td>\n",
              "      <td>-0.206956</td>\n",
              "      <td>0.223184</td>\n",
              "      <td>-0.035210</td>\n",
              "    </tr>\n",
              "    <tr>\n",
              "      <th>3</th>\n",
              "      <td>-0.106502</td>\n",
              "      <td>-0.222417</td>\n",
              "      <td>0.078410</td>\n",
              "      <td>-0.106081</td>\n",
              "    </tr>\n",
              "    <tr>\n",
              "      <th>4</th>\n",
              "      <td>0.328528</td>\n",
              "      <td>-0.113140</td>\n",
              "      <td>-0.070078</td>\n",
              "      <td>0.012656</td>\n",
              "    </tr>\n",
              "    <tr>\n",
              "      <th>...</th>\n",
              "      <td>...</td>\n",
              "      <td>...</td>\n",
              "      <td>...</td>\n",
              "      <td>...</td>\n",
              "    </tr>\n",
              "    <tr>\n",
              "      <th>9995</th>\n",
              "      <td>0.465569</td>\n",
              "      <td>-0.075091</td>\n",
              "      <td>0.095755</td>\n",
              "      <td>0.184507</td>\n",
              "    </tr>\n",
              "    <tr>\n",
              "      <th>9996</th>\n",
              "      <td>-0.452606</td>\n",
              "      <td>-0.010868</td>\n",
              "      <td>-0.090566</td>\n",
              "      <td>0.010874</td>\n",
              "    </tr>\n",
              "    <tr>\n",
              "      <th>9997</th>\n",
              "      <td>0.270511</td>\n",
              "      <td>0.262076</td>\n",
              "      <td>-0.063057</td>\n",
              "      <td>0.093087</td>\n",
              "    </tr>\n",
              "    <tr>\n",
              "      <th>9998</th>\n",
              "      <td>0.334530</td>\n",
              "      <td>-0.009714</td>\n",
              "      <td>-0.021526</td>\n",
              "      <td>0.138664</td>\n",
              "    </tr>\n",
              "    <tr>\n",
              "      <th>9999</th>\n",
              "      <td>-0.298360</td>\n",
              "      <td>0.111256</td>\n",
              "      <td>0.075157</td>\n",
              "      <td>-0.040035</td>\n",
              "    </tr>\n",
              "  </tbody>\n",
              "</table>\n",
              "<p>10000 rows × 4 columns</p>\n",
              "</div>\n",
              "    <div class=\"colab-df-buttons\">\n",
              "\n",
              "  <div class=\"colab-df-container\">\n",
              "    <button class=\"colab-df-convert\" onclick=\"convertToInteractive('df-273fda5c-e8c0-49d1-91af-8eb83cf20677')\"\n",
              "            title=\"Convert this dataframe to an interactive table.\"\n",
              "            style=\"display:none;\">\n",
              "\n",
              "  <svg xmlns=\"http://www.w3.org/2000/svg\" height=\"24px\" viewBox=\"0 -960 960 960\">\n",
              "    <path d=\"M120-120v-720h720v720H120Zm60-500h600v-160H180v160Zm220 220h160v-160H400v160Zm0 220h160v-160H400v160ZM180-400h160v-160H180v160Zm440 0h160v-160H620v160ZM180-180h160v-160H180v160Zm440 0h160v-160H620v160Z\"/>\n",
              "  </svg>\n",
              "    </button>\n",
              "\n",
              "  <style>\n",
              "    .colab-df-container {\n",
              "      display:flex;\n",
              "      gap: 12px;\n",
              "    }\n",
              "\n",
              "    .colab-df-convert {\n",
              "      background-color: #E8F0FE;\n",
              "      border: none;\n",
              "      border-radius: 50%;\n",
              "      cursor: pointer;\n",
              "      display: none;\n",
              "      fill: #1967D2;\n",
              "      height: 32px;\n",
              "      padding: 0 0 0 0;\n",
              "      width: 32px;\n",
              "    }\n",
              "\n",
              "    .colab-df-convert:hover {\n",
              "      background-color: #E2EBFA;\n",
              "      box-shadow: 0px 1px 2px rgba(60, 64, 67, 0.3), 0px 1px 3px 1px rgba(60, 64, 67, 0.15);\n",
              "      fill: #174EA6;\n",
              "    }\n",
              "\n",
              "    .colab-df-buttons div {\n",
              "      margin-bottom: 4px;\n",
              "    }\n",
              "\n",
              "    [theme=dark] .colab-df-convert {\n",
              "      background-color: #3B4455;\n",
              "      fill: #D2E3FC;\n",
              "    }\n",
              "\n",
              "    [theme=dark] .colab-df-convert:hover {\n",
              "      background-color: #434B5C;\n",
              "      box-shadow: 0px 1px 3px 1px rgba(0, 0, 0, 0.15);\n",
              "      filter: drop-shadow(0px 1px 2px rgba(0, 0, 0, 0.3));\n",
              "      fill: #FFFFFF;\n",
              "    }\n",
              "  </style>\n",
              "\n",
              "    <script>\n",
              "      const buttonEl =\n",
              "        document.querySelector('#df-273fda5c-e8c0-49d1-91af-8eb83cf20677 button.colab-df-convert');\n",
              "      buttonEl.style.display =\n",
              "        google.colab.kernel.accessAllowed ? 'block' : 'none';\n",
              "\n",
              "      async function convertToInteractive(key) {\n",
              "        const element = document.querySelector('#df-273fda5c-e8c0-49d1-91af-8eb83cf20677');\n",
              "        const dataTable =\n",
              "          await google.colab.kernel.invokeFunction('convertToInteractive',\n",
              "                                                    [key], {});\n",
              "        if (!dataTable) return;\n",
              "\n",
              "        const docLinkHtml = 'Like what you see? Visit the ' +\n",
              "          '<a target=\"_blank\" href=https://colab.research.google.com/notebooks/data_table.ipynb>data table notebook</a>'\n",
              "          + ' to learn more about interactive tables.';\n",
              "        element.innerHTML = '';\n",
              "        dataTable['output_type'] = 'display_data';\n",
              "        await google.colab.output.renderOutput(dataTable, element);\n",
              "        const docLink = document.createElement('div');\n",
              "        docLink.innerHTML = docLinkHtml;\n",
              "        element.appendChild(docLink);\n",
              "      }\n",
              "    </script>\n",
              "  </div>\n",
              "\n",
              "\n",
              "<div id=\"df-ac3eb2f5-3f1d-4867-97f6-1e2574e0fcc8\">\n",
              "  <button class=\"colab-df-quickchart\" onclick=\"quickchart('df-ac3eb2f5-3f1d-4867-97f6-1e2574e0fcc8')\"\n",
              "            title=\"Suggest charts\"\n",
              "            style=\"display:none;\">\n",
              "\n",
              "<svg xmlns=\"http://www.w3.org/2000/svg\" height=\"24px\"viewBox=\"0 0 24 24\"\n",
              "     width=\"24px\">\n",
              "    <g>\n",
              "        <path d=\"M19 3H5c-1.1 0-2 .9-2 2v14c0 1.1.9 2 2 2h14c1.1 0 2-.9 2-2V5c0-1.1-.9-2-2-2zM9 17H7v-7h2v7zm4 0h-2V7h2v10zm4 0h-2v-4h2v4z\"/>\n",
              "    </g>\n",
              "</svg>\n",
              "  </button>\n",
              "\n",
              "<style>\n",
              "  .colab-df-quickchart {\n",
              "      --bg-color: #E8F0FE;\n",
              "      --fill-color: #1967D2;\n",
              "      --hover-bg-color: #E2EBFA;\n",
              "      --hover-fill-color: #174EA6;\n",
              "      --disabled-fill-color: #AAA;\n",
              "      --disabled-bg-color: #DDD;\n",
              "  }\n",
              "\n",
              "  [theme=dark] .colab-df-quickchart {\n",
              "      --bg-color: #3B4455;\n",
              "      --fill-color: #D2E3FC;\n",
              "      --hover-bg-color: #434B5C;\n",
              "      --hover-fill-color: #FFFFFF;\n",
              "      --disabled-bg-color: #3B4455;\n",
              "      --disabled-fill-color: #666;\n",
              "  }\n",
              "\n",
              "  .colab-df-quickchart {\n",
              "    background-color: var(--bg-color);\n",
              "    border: none;\n",
              "    border-radius: 50%;\n",
              "    cursor: pointer;\n",
              "    display: none;\n",
              "    fill: var(--fill-color);\n",
              "    height: 32px;\n",
              "    padding: 0;\n",
              "    width: 32px;\n",
              "  }\n",
              "\n",
              "  .colab-df-quickchart:hover {\n",
              "    background-color: var(--hover-bg-color);\n",
              "    box-shadow: 0 1px 2px rgba(60, 64, 67, 0.3), 0 1px 3px 1px rgba(60, 64, 67, 0.15);\n",
              "    fill: var(--button-hover-fill-color);\n",
              "  }\n",
              "\n",
              "  .colab-df-quickchart-complete:disabled,\n",
              "  .colab-df-quickchart-complete:disabled:hover {\n",
              "    background-color: var(--disabled-bg-color);\n",
              "    fill: var(--disabled-fill-color);\n",
              "    box-shadow: none;\n",
              "  }\n",
              "\n",
              "  .colab-df-spinner {\n",
              "    border: 2px solid var(--fill-color);\n",
              "    border-color: transparent;\n",
              "    border-bottom-color: var(--fill-color);\n",
              "    animation:\n",
              "      spin 1s steps(1) infinite;\n",
              "  }\n",
              "\n",
              "  @keyframes spin {\n",
              "    0% {\n",
              "      border-color: transparent;\n",
              "      border-bottom-color: var(--fill-color);\n",
              "      border-left-color: var(--fill-color);\n",
              "    }\n",
              "    20% {\n",
              "      border-color: transparent;\n",
              "      border-left-color: var(--fill-color);\n",
              "      border-top-color: var(--fill-color);\n",
              "    }\n",
              "    30% {\n",
              "      border-color: transparent;\n",
              "      border-left-color: var(--fill-color);\n",
              "      border-top-color: var(--fill-color);\n",
              "      border-right-color: var(--fill-color);\n",
              "    }\n",
              "    40% {\n",
              "      border-color: transparent;\n",
              "      border-right-color: var(--fill-color);\n",
              "      border-top-color: var(--fill-color);\n",
              "    }\n",
              "    60% {\n",
              "      border-color: transparent;\n",
              "      border-right-color: var(--fill-color);\n",
              "    }\n",
              "    80% {\n",
              "      border-color: transparent;\n",
              "      border-right-color: var(--fill-color);\n",
              "      border-bottom-color: var(--fill-color);\n",
              "    }\n",
              "    90% {\n",
              "      border-color: transparent;\n",
              "      border-bottom-color: var(--fill-color);\n",
              "    }\n",
              "  }\n",
              "</style>\n",
              "\n",
              "  <script>\n",
              "    async function quickchart(key) {\n",
              "      const quickchartButtonEl =\n",
              "        document.querySelector('#' + key + ' button');\n",
              "      quickchartButtonEl.disabled = true;  // To prevent multiple clicks.\n",
              "      quickchartButtonEl.classList.add('colab-df-spinner');\n",
              "      try {\n",
              "        const charts = await google.colab.kernel.invokeFunction(\n",
              "            'suggestCharts', [key], {});\n",
              "      } catch (error) {\n",
              "        console.error('Error during call to suggestCharts:', error);\n",
              "      }\n",
              "      quickchartButtonEl.classList.remove('colab-df-spinner');\n",
              "      quickchartButtonEl.classList.add('colab-df-quickchart-complete');\n",
              "    }\n",
              "    (() => {\n",
              "      let quickchartButtonEl =\n",
              "        document.querySelector('#df-ac3eb2f5-3f1d-4867-97f6-1e2574e0fcc8 button');\n",
              "      quickchartButtonEl.style.display =\n",
              "        google.colab.kernel.accessAllowed ? 'block' : 'none';\n",
              "    })();\n",
              "  </script>\n",
              "</div>\n",
              "    </div>\n",
              "  </div>\n"
            ]
          },
          "metadata": {},
          "execution_count": 8
        }
      ]
    },
    {
      "cell_type": "code",
      "source": [
        "# Plot original test data\n",
        "plt.figure(figsize=(10, 5))\n",
        "plt.subplot(1, 2, 1)\n",
        "plt.scatter(df_test['feature 1'], df_test['feature 2'])\n",
        "plt.title('Original Test Data')\n",
        "plt.xlabel('Feature1')\n",
        "plt.ylabel('Feature2')\n",
        "\n",
        "# Plot normalized test data\n",
        "plt.subplot(1, 2, 2)\n",
        "plt.scatter(mean_normalized_data_test['feature 1'], mean_normalized_data_test['feature 2'])\n",
        "plt.title('Mean Normalized Test Data')\n",
        "plt.xlabel('Feature1')\n",
        "plt.ylabel('Feature2')\n",
        "\n",
        "plt.tight_layout()\n",
        "plt.show()"
      ],
      "metadata": {
        "colab": {
          "base_uri": "https://localhost:8080/",
          "height": 507
        },
        "id": "sxAYk5BUbz-a",
        "outputId": "450ec9c1-8afb-4611-c023-121f5a59b40d"
      },
      "execution_count": null,
      "outputs": [
        {
          "output_type": "display_data",
          "data": {
            "text/plain": [
              "<Figure size 1000x500 with 2 Axes>"
            ],
            "image/png": "[encoded data removed]"
          },
          "metadata": {}
        }
      ]
    },
    {
      "cell_type": "code",
      "source": [
        "X_test=mean_normalized_data_test.drop(['ID'],axis=1).values\n",
        "X_test.shape"
      ],
      "metadata": {
        "colab": {
          "base_uri": "https://localhost:8080/"
        },
        "id": "zCq72z4nb9Mt",
        "outputId": "004bddee-1338-49d6-9d72-51a381106269"
      },
      "execution_count": null,
      "outputs": [
        {
          "output_type": "execute_result",
          "data": {
            "text/plain": [
              "(10000, 3)"
            ]
          },
          "metadata": {},
          "execution_count": 74
        }
      ]
    },
    {
      "cell_type": "code",
      "source": [
        "squared_x_train=np.square(x_train_1)\n",
        "squared_x_train.shape"
      ],
      "metadata": {
        "colab": {
          "base_uri": "https://localhost:8080/"
        },
        "id": "Db_ZKuWIXnbk",
        "outputId": "2637368b-8cb5-4519-8ab0-e1d173a6b19e"
      },
      "execution_count": null,
      "outputs": [
        {
          "output_type": "execute_result",
          "data": {
            "text/plain": [
              "(50000, 3)"
            ]
          },
          "metadata": {},
          "execution_count": 43
        }
      ]
    },
    {
      "cell_type": "code",
      "source": [
        "cubed_x_train=np.power(x_train_1,3)\n",
        "cubed_x_train.shape"
      ],
      "metadata": {
        "colab": {
          "base_uri": "https://localhost:8080/"
        },
        "id": "FCVE4pvuY5_a",
        "outputId": "53498f43-7d49-4be1-b1fb-8bb47a94e0a5"
      },
      "execution_count": null,
      "outputs": [
        {
          "output_type": "execute_result",
          "data": {
            "text/plain": [
              "(50000, 3)"
            ]
          },
          "metadata": {},
          "execution_count": 44
        }
      ]
    },
    {
      "cell_type": "code",
      "source": [
        "#x_1*x_2 &x_2*x_3 & x_3*x_1\n",
        "a=np.roll(x_train_1, -1, axis=1)\n",
        "a=np.multiply(x_train_1,a)\n",
        "a.shape"
      ],
      "metadata": {
        "colab": {
          "base_uri": "https://localhost:8080/"
        },
        "id": "VfGaHhO6cVYj",
        "outputId": "11f0bd90-92c6-433a-bf2d-9074805e0a24"
      },
      "execution_count": null,
      "outputs": [
        {
          "output_type": "execute_result",
          "data": {
            "text/plain": [
              "(50000, 3)"
            ]
          },
          "metadata": {},
          "execution_count": 45
        }
      ]
    },
    {
      "cell_type": "code",
      "source": [
        "# x_1*x_2*x_3\n",
        "x_1_train=(x_train_1[:,[0]]) #x_1\n",
        "x_2_train=(x_train_1[:,[1]]) #x_2\n",
        "x_3_train=(x_train_1[:,[2]]) #x_3\n",
        "x_1x_2_train=np.multiply(x_1_train,x_2_train) #x_1*x_2\n",
        "x_1x_2x_3_train=np.multiply(x_1x_2_train,x_3_train) #x_1*x_2*x_3\n",
        "x_1x_2x_3_train.shape"
      ],
      "metadata": {
        "colab": {
          "base_uri": "https://localhost:8080/"
        },
        "id": "YkJHugiwhBH2",
        "outputId": "b96b5dfe-5676-40e6-a8a0-fd70011e2de8"
      },
      "execution_count": null,
      "outputs": [
        {
          "output_type": "execute_result",
          "data": {
            "text/plain": [
              "(50000, 1)"
            ]
          },
          "metadata": {},
          "execution_count": 46
        }
      ]
    },
    {
      "cell_type": "code",
      "source": [
        "#x_1^2 *x_2\n",
        "squared_x_1_train=np.square(x_1_train)\n",
        "squared_x_1x_2_train=np.multiply(squared_x_1_train,x_2_train)\n",
        "#x_1^2 *x_3\n",
        "squared_x_1x_3_train=np.multiply(squared_x_1_train,x_3_train)\n",
        "\n",
        "#x_2^2 *x_1\n",
        "squared_x_2_train=np.square(x_2_train)\n",
        "squared_x_2x_1_train=np.multiply(squared_x_2_train,x_1_train)\n",
        "#x_2^2 *x_3\n",
        "squared_x_2x_3_train=np.multiply(squared_x_2_train,x_3_train)\n",
        "\n",
        "#x_3^2 *x_1\n",
        "squared_x_3_train=np.square(x_3_train)\n",
        "squared_x_3x_1_train=np.multiply(squared_x_3_train,x_1_train)\n",
        "#x_3^2 *x_2\n",
        "squared_x_3x_2_train=np.multiply(squared_x_3_train,x_2_train)\n",
        "squared_x_3x_2_train.shape"
      ],
      "metadata": {
        "colab": {
          "base_uri": "https://localhost:8080/"
        },
        "id": "Hv0VSXL3kGUF",
        "outputId": "8d31b1bd-923b-4493-ef96-094605e5d502"
      },
      "execution_count": null,
      "outputs": [
        {
          "output_type": "execute_result",
          "data": {
            "text/plain": [
              "(50000, 1)"
            ]
          },
          "metadata": {},
          "execution_count": 15
        }
      ]
    },
    {
      "cell_type": "code",
      "source": [],
      "metadata": {
        "id": "2EJRYg9_8bi5"
      },
      "execution_count": null,
      "outputs": []
    },
    {
      "cell_type": "code",
      "source": [
        "X_train=np.concatenate((x_train_1,squared_x_train,a,x_1x_2x_3_train,cubed_x_train,squared_x_1x_2_train,squared_x_1x_3_train,squared_x_2x_1_train,squared_x_2x_3_train,squared_x_3x_1_train,squared_x_3x_2_train),axis=1)\n",
        "X_train.shape"
      ],
      "metadata": {
        "colab": {
          "base_uri": "https://localhost:8080/"
        },
        "id": "G1y-aNJTD8pO",
        "outputId": "59d1f126-95e8-4e80-887d-dc818b22838d"
      },
      "execution_count": null,
      "outputs": [
        {
          "output_type": "execute_result",
          "data": {
            "text/plain": [
              "(50000, 19)"
            ]
          },
          "metadata": {},
          "execution_count": 65
        }
      ]
    },
    {
      "cell_type": "code",
      "source": [
        "# Split the data into training and validation sets\n",
        "train_ratio = 0.8\n",
        "spilt_index = int(train_ratio * len(X_train))\n",
        "spilt_index"
      ],
      "metadata": {
        "colab": {
          "base_uri": "https://localhost:8080/"
        },
        "id": "o4L2kKJMV3qw",
        "outputId": "0a71b179-0aaf-42e9-a32f-930ebde5ef8f"
      },
      "execution_count": null,
      "outputs": [
        {
          "output_type": "execute_result",
          "data": {
            "text/plain": [
              "40000"
            ]
          },
          "metadata": {},
          "execution_count": 66
        }
      ]
    },
    {
      "cell_type": "code",
      "source": [
        "x_train = X_train[:spilt_index]\n",
        "X_val=X_train[spilt_index:]   # X_val represents the values for valdiation\n",
        "y_train_1 = Y_train[:spilt_index]\n",
        "Y_val=Y_train[spilt_index:]\n",
        "x_train.shape"
      ],
      "metadata": {
        "colab": {
          "base_uri": "https://localhost:8080/"
        },
        "id": "XPKUPglyXvLt",
        "outputId": "7109d65c-218c-4a4a-f0d8-76382ff29de5"
      },
      "execution_count": null,
      "outputs": [
        {
          "output_type": "execute_result",
          "data": {
            "text/plain": [
              "(40000, 19)"
            ]
          },
          "metadata": {},
          "execution_count": 67
        }
      ]
    },
    {
      "cell_type": "code",
      "source": [
        "X_test.shape"
      ],
      "metadata": {
        "id": "qRoW-oF0dAyU",
        "colab": {
          "base_uri": "https://localhost:8080/"
        },
        "outputId": "23b4d687-57a7-4e71-ea41-8cdeabe6f78e"
      },
      "execution_count": null,
      "outputs": [
        {
          "output_type": "execute_result",
          "data": {
            "text/plain": [
              "(10000, 3)"
            ]
          },
          "metadata": {},
          "execution_count": 75
        }
      ]
    },
    {
      "cell_type": "code",
      "source": [
        "squared_x_test=np.square(X_test)\n",
        "squared_x_test.shape"
      ],
      "metadata": {
        "colab": {
          "base_uri": "https://localhost:8080/"
        },
        "outputId": "233ede9d-7a8f-49e8-d8a0-c56969e075cb",
        "id": "3soZGtmdcC6N"
      },
      "execution_count": null,
      "outputs": [
        {
          "output_type": "execute_result",
          "data": {
            "text/plain": [
              "(10000, 3)"
            ]
          },
          "metadata": {},
          "execution_count": 76
        }
      ]
    },
    {
      "cell_type": "code",
      "source": [
        "cubed_x_test=np.power(X_test,3)\n",
        "cubed_x_test.shape"
      ],
      "metadata": {
        "colab": {
          "base_uri": "https://localhost:8080/"
        },
        "id": "Wp8JqYficdhJ",
        "outputId": "1db669f1-8061-42bc-aad7-74b34ffce0da"
      },
      "execution_count": null,
      "outputs": [
        {
          "output_type": "execute_result",
          "data": {
            "text/plain": [
              "(10000, 3)"
            ]
          },
          "metadata": {},
          "execution_count": 77
        }
      ]
    },
    {
      "cell_type": "code",
      "source": [
        "#x_1*x_2 &x_2*x_3 & x_3*x_1\n",
        "b=np.roll(X_test, -1, axis=1)\n",
        "b=np.multiply(X_test,b)\n",
        "b.shape"
      ],
      "metadata": {
        "colab": {
          "base_uri": "https://localhost:8080/"
        },
        "id": "jja1iqRfb85j",
        "outputId": "335d9816-115f-4d70-ab66-e64e181d5048"
      },
      "execution_count": null,
      "outputs": [
        {
          "output_type": "execute_result",
          "data": {
            "text/plain": [
              "(10000, 3)"
            ]
          },
          "metadata": {},
          "execution_count": 78
        }
      ]
    },
    {
      "cell_type": "code",
      "source": [
        "# x_1*x_2*x_3_test\n",
        "x_1_test=(X_test[:,[0]]) #x_1\n",
        "x_2_test=(X_test[:,[1]]) #x_2\n",
        "x_3_test=(X_test[:,[2]]) #x_3\n",
        "x_1x_2_test=np.multiply(x_1_test,x_2_test) #x_1*x_2\n",
        "x_1x_2x_3_test=np.multiply(x_1x_2_test,x_3_test) #x_1*x_2*x_3\n",
        "x_1x_2x_3_test.shape"
      ],
      "metadata": {
        "colab": {
          "base_uri": "https://localhost:8080/"
        },
        "id": "_h9bZix1csSr",
        "outputId": "b8f1dd78-2e8f-44ea-d3ef-e6154aa6ad60"
      },
      "execution_count": null,
      "outputs": [
        {
          "output_type": "execute_result",
          "data": {
            "text/plain": [
              "(10000, 1)"
            ]
          },
          "metadata": {},
          "execution_count": 79
        }
      ]
    },
    {
      "cell_type": "code",
      "source": [
        "#x_1^2 *x_2_test\n",
        "squared_x_1_test=np.square(x_1_test)\n",
        "squared_x_1x_2_test=np.multiply(squared_x_1_test,x_2_test)\n",
        "#x_1^2 *x_3\n",
        "squared_x_1x_3_test=np.multiply(squared_x_1_test,x_3_test)\n",
        "\n",
        "#x_2^2 *x_1\n",
        "squared_x_2_test=np.square(x_2_test)\n",
        "squared_x_2x_1_test=np.multiply(squared_x_2_test,x_1_test)\n",
        "#x_2^2 *x_3\n",
        "squared_x_2x_3_test=np.multiply(squared_x_2_test,x_3_test)\n",
        "\n",
        "#x_3^2 *x_1\n",
        "squared_x_3_test=np.square(x_3_test)\n",
        "squared_x_3x_1_test=np.multiply(squared_x_3_test,x_1_test)\n",
        "#x_3^2 *x_2\n",
        "squared_x_3x_2_test=np.multiply(squared_x_3_test,x_2_test)\n",
        "squared_x_3x_2_test.shape"
      ],
      "metadata": {
        "colab": {
          "base_uri": "https://localhost:8080/"
        },
        "id": "K2KSCQF-fd3g",
        "outputId": "2d6d6eff-10ff-4af1-ad80-6d377f54bb53"
      },
      "execution_count": null,
      "outputs": [
        {
          "output_type": "execute_result",
          "data": {
            "text/plain": [
              "(10000, 1)"
            ]
          },
          "metadata": {},
          "execution_count": 80
        }
      ]
    },
    {
      "cell_type": "code",
      "source": [
        "cubed_x_test,,squared_x_1x_2_test,squared_x_1x_3_test,squared_x_2x_1_test,squared_x_2x_3_test,squared_x_3x_1_test,squared_x_3x_2_test),axis=1)\n",
        "x_test.shape"
      ],
      "metadata": {
        "id": "-CrqqXwE9q89"
      },
      "execution_count": null,
      "outputs": []
    },
    {
      "cell_type": "code",
      "source": [
        "x_test=np.concatenate((X_test,squared_x_test,b,x_1x_2x_3_test,cubed_x_test,squared_x_1x_2_test,squared_x_1x_3_test,squared_x_2x_1_test,squared_x_2x_3_test,squared_x_3x_1_test,squared_x_3x_2_test),axis=1)\n",
        "x_test.shape"
      ],
      "metadata": {
        "colab": {
          "base_uri": "https://localhost:8080/"
        },
        "id": "r5hAb7tTgEh8",
        "outputId": "df9c882c-c2ca-4c3a-ee85-3d2ec3d921a1"
      },
      "execution_count": null,
      "outputs": [
        {
          "output_type": "execute_result",
          "data": {
            "text/plain": [
              "(10000, 19)"
            ]
          },
          "metadata": {},
          "execution_count": 81
        }
      ]
    },
    {
      "cell_type": "code",
      "source": [
        "ones_train=np.ones((x_train.shape[0],1))\n",
        "X_train=np.concatenate((ones_train,x_train),axis=1)\n",
        "ones_val=np.ones((X_val.shape[0],1))\n",
        "x_val=np.concatenate((ones_val,X_val),axis=1)\n",
        "ones_test=np.ones((x_test.shape[0],1))\n",
        "X_test=np.concatenate((ones_test,x_test),axis=1)\n",
        "X_train.shape"
      ],
      "metadata": {
        "colab": {
          "base_uri": "https://localhost:8080/"
        },
        "id": "yk_bhQdWeNkz",
        "outputId": "b772c8ae-ab2d-4da7-997e-0c4930609883"
      },
      "execution_count": null,
      "outputs": [
        {
          "output_type": "execute_result",
          "data": {
            "text/plain": [
              "(40000, 20)"
            ]
          },
          "metadata": {},
          "execution_count": 89
        }
      ]
    },
    {
      "cell_type": "code",
      "source": [
        "def compute_cost(X_train,y_train_1,theta):\n",
        "    cost=0\n",
        "    m=len(X_train)\n",
        "    prediction=X_train.dot(theta)\n",
        "    cost=cost+(1/(2*m))*np.sum(np.square(prediction-y_train_1))\n",
        "    return cost\n",
        "n=X_train.shape[1]\n",
        "theta=np.zeros((n))\n",
        "prediction=X_train.dot(theta)\n",
        "prediction.shape"
      ],
      "metadata": {
        "id": "xKzu7amgi3KI",
        "colab": {
          "base_uri": "https://localhost:8080/"
        },
        "outputId": "b7f64219-46f1-4c21-9b56-7bf6a4ae4f26"
      },
      "execution_count": null,
      "outputs": [
        {
          "output_type": "execute_result",
          "data": {
            "text/plain": [
              "(40000,)"
            ]
          },
          "metadata": {},
          "execution_count": 93
        }
      ]
    },
    {
      "cell_type": "code",
      "source": [
        "def compute_gradient(X_train,y_train_1,theta):\n",
        "    m=len(X_train)\n",
        "    prediction=X_train.dot(theta)\n",
        "    error=prediction-y_train_1\n",
        "    gradient=(1/m)*X_train.T.dot(error)\n",
        "    return gradient\n",
        "n=X_train.shape[1]\n",
        "theta=np.zeros((n))\n"
      ],
      "metadata": {
        "id": "zxM4nNANpa2W"
      },
      "execution_count": null,
      "outputs": []
    },
    {
      "cell_type": "code",
      "source": [
        "x_train.shape"
      ],
      "metadata": {
        "colab": {
          "base_uri": "https://localhost:8080/"
        },
        "id": "NM1NtbBCjs8G",
        "outputId": "10f21438-4fbb-434d-db0d-c969b4537940"
      },
      "execution_count": null,
      "outputs": [
        {
          "output_type": "execute_result",
          "data": {
            "text/plain": [
              "(40000, 19)"
            ]
          },
          "metadata": {},
          "execution_count": 83
        }
      ]
    },
    {
      "cell_type": "code",
      "source": [
        "def gradient_descent(X_train,y_train_1,alpha=0.5,iters=100000):\n",
        "    n=X_train.shape[1]\n",
        "    theta=np.zeros((n))\n",
        "    cost=np.zeros(iters)\n",
        "    for i in range (iters):\n",
        "        gradient=compute_gradient(X_train,y_train_1,theta)\n",
        "        theta=theta-alpha*gradient\n",
        "        cost=compute_cost(X_train,y_train_1,theta)\n",
        "        if i%10000==0:\n",
        "            print(\"Iteration=\",i)\n",
        "            print(\"Cost=\",cost)\n",
        "    return theta,cost"
      ],
      "metadata": {
        "id": "NStPxZmiq3lI"
      },
      "execution_count": null,
      "outputs": []
    },
    {
      "cell_type": "code",
      "source": [
        "theta,cost=gradient_descent(X_train,y_train_1,alpha=1,iters=200000)\n",
        "print(theta)"
      ],
      "metadata": {
        "id": "8XiaXFgIrMbE",
        "colab": {
          "base_uri": "https://localhost:8080/"
        },
        "outputId": "0f40ed74-58ab-4781-d4ae-c7fb7a660a0e"
      },
      "execution_count": null,
      "outputs": [
        {
          "output_type": "stream",
          "name": "stdout",
          "text": [
            "Iteration= 0\n",
            "Cost= 8.48786646665883e-05\n",
            "Iteration= 10000\n",
            "Cost= 4.920060335805078e-05\n",
            "Iteration= 20000\n",
            "Cost= 4.87469963134545e-05\n",
            "Iteration= 30000\n",
            "Cost= 4.863003203961558e-05\n",
            "Iteration= 40000\n",
            "Cost= 4.854881298869282e-05\n",
            "Iteration= 50000\n",
            "Cost= 4.848752797374654e-05\n",
            "Iteration= 60000\n",
            "Cost= 4.844097183290891e-05\n",
            "Iteration= 70000\n",
            "Cost= 4.8405475803062885e-05\n",
            "Iteration= 80000\n",
            "Cost= 4.837830157069584e-05\n",
            "Iteration= 90000\n",
            "Cost= 4.835739885295755e-05\n",
            "Iteration= 100000\n",
            "Cost= 4.834123147556454e-05\n",
            "Iteration= 110000\n",
            "Cost= 4.83286476726925e-05\n",
            "Iteration= 120000\n",
            "Cost= 4.831878318253972e-05\n",
            "Iteration= 130000\n",
            "Cost= 4.8310988833603944e-05\n",
            "Iteration= 140000\n",
            "Cost= 4.830477642626663e-05\n",
            "Iteration= 150000\n",
            "Cost= 4.8299778282294114e-05\n",
            "Iteration= 160000\n",
            "Cost= 4.829571700576503e-05\n",
            "Iteration= 170000\n",
            "Cost= 4.829238287348833e-05\n",
            "Iteration= 180000\n",
            "Cost= 4.8289616926204144e-05\n",
            "Iteration= 190000\n",
            "Cost= 4.8287298319778284e-05\n",
            "[-6.05039591e-03  1.50606297e-04 -2.52489986e-04  9.40083440e-03\n",
            "  5.79257533e-02  1.24746472e-04  3.96266537e-01  2.52619807e-02\n",
            "  7.23494225e-02  2.96057521e-01  1.13649515e-02  9.99051096e-03\n",
            "  1.33195173e-02 -3.02728241e-01  1.88253647e-02 -6.33655519e-03\n",
            "  2.50884237e-02  5.90246260e-02 -6.93478704e-02 -7.72760575e-03]\n"
          ]
        }
      ]
    },
    {
      "cell_type": "code",
      "source": [
        "Y_train_pred=X_train.dot(theta)\n",
        "print(\"Y_train_pred=\",Y_train_pred)\n",
        "print(\"Y_train=\",y_train_1)"
      ],
      "metadata": {
        "id": "cVrTIjGmU7Oa",
        "colab": {
          "base_uri": "https://localhost:8080/"
        },
        "outputId": "bfc2240a-9f31-494e-bb1f-b7fcb86a46f7"
      },
      "execution_count": null,
      "outputs": [
        {
          "output_type": "stream",
          "name": "stdout",
          "text": [
            "Y_train_pred= [ 0.0142293  -0.00618315 -0.00239825 ... -0.00047761 -0.00020958\n",
            "  0.00472403]\n",
            "Y_train= [ 0.00280954 -0.00211318 -0.00205746 ... -0.00202994 -0.00196749\n",
            " -0.00086537]\n"
          ]
        }
      ]
    },
    {
      "cell_type": "code",
      "source": [
        "# R-squared score\n",
        "ssr = np.sum((y_train_1- Y_train_pred)**2)  # sum of squared residuals(ssr)\n",
        "sst = np.sum((y_train_1 - np.mean(y_train_1))**2)  # Total Sum of Squares(sst)\n",
        "r_squared = 1 - (ssr / sst)\n",
        "print(\"R-squared score of validation set:\", r_squared)"
      ],
      "metadata": {
        "colab": {
          "base_uri": "https://localhost:8080/"
        },
        "id": "3i0jxp3l7auU",
        "outputId": "c98678d9-b9ac-48ac-fbc2-6cc37b149659"
      },
      "execution_count": null,
      "outputs": [
        {
          "output_type": "stream",
          "name": "stdout",
          "text": [
            "R-squared score of validation set: 0.4312802453568433\n"
          ]
        }
      ]
    },
    {
      "cell_type": "code",
      "source": [
        "Y_val_pred=x_val.dot(theta)\n",
        "print(\"Y_val_pred=\", Y_val_pred)\n",
        "print(\"Y_val=\", Y_val)"
      ],
      "metadata": {
        "colab": {
          "base_uri": "https://localhost:8080/"
        },
        "id": "IY1kA7ipVj1E",
        "outputId": "d8be3954-3a16-4e91-a81c-4ec9011ea933"
      },
      "execution_count": null,
      "outputs": [
        {
          "output_type": "stream",
          "name": "stdout",
          "text": [
            "Y_val_pred= [ 0.02428732 -0.00512556 -0.00400794 ...  0.01272414 -0.00220678\n",
            "  0.0026077 ]\n",
            "Y_val= [ 0.01969028 -0.00211233 -0.00210754 ...  0.00245694 -0.00208244\n",
            " -0.00169995]\n"
          ]
        }
      ]
    },
    {
      "cell_type": "markdown",
      "source": [],
      "metadata": {
        "id": "1i7gPhrrcPq1"
      }
    },
    {
      "cell_type": "code",
      "source": [],
      "metadata": {
        "id": "aFMo8szjcQg3"
      },
      "execution_count": null,
      "outputs": []
    },
    {
      "cell_type": "code",
      "source": [
        "Y_test_pred=X_test.dot(theta)\n",
        "print(\"Y_test_pred=\", Y_test_pred)"
      ],
      "metadata": {
        "colab": {
          "base_uri": "https://localhost:8080/"
        },
        "id": "EYghv0b1Y5Z9",
        "outputId": "3edc8135-4550-42a9-8169-54b9e991d04b"
      },
      "execution_count": null,
      "outputs": [
        {
          "output_type": "stream",
          "name": "stdout",
          "text": [
            "Y_test_pred= [ 0.00617318  0.01141519 -0.00278364 ...  0.00798806  0.00114217\n",
            " -0.00617582]\n"
          ]
        }
      ]
    },
    {
      "cell_type": "code",
      "source": [
        "# R-squared score\n",
        "ssr = np.sum((Y_val- Y_val_pred)**2)  # sum of squared residuals(ssr)\n",
        "sst = np.sum((Y_val - np.mean(Y_val))**2)  # Total Sum of Squares(sst)\n",
        "r_squared = 1 - (ssr / sst)\n",
        "print(\"R-squared score of validation set:\", r_squared)"
      ],
      "metadata": {
        "colab": {
          "base_uri": "https://localhost:8080/"
        },
        "id": "0_cToXSil9A5",
        "outputId": "312a6111-6d13-4404-c38a-85351d061865"
      },
      "execution_count": null,
      "outputs": [
        {
          "output_type": "stream",
          "name": "stdout",
          "text": [
            "R-squared score of validation set: 0.37855740696128226\n"
          ]
        }
      ]
    },
    {
      "cell_type": "code",
      "source": [],
      "metadata": {
        "id": "7Ez8_efTmN5_"
      },
      "execution_count": null,
      "outputs": []
    }
  ]
}
{
  "nbformat": 4,
  "nbformat_minor": 0,
  "metadata": {
    "colab": {
      "provenance": []
    },
    "kernelspec": {
      "name": "python3",
      "display_name": "Python 3"
    },
    "language_info": {
      "name": "python"
    }
  },
  "cells": [
    {
      "cell_type": "markdown",
      "source": [
        "**Importing** **libraries**"
      ],
      "metadata": {
        "id": "vz-jU772F0ML"
      }
    },
    {
      "cell_type": "code",
      "execution_count": 1,
      "metadata": {
        "id": "1A1q65RKFMI9"
      },
      "outputs": [],
      "source": [
        "import numpy as np\n",
        "import pandas as pd\n",
        "import matplotlib.pyplot as plt"
      ]
    },
    {
      "cell_type": "markdown",
      "source": [
        "Training Dataset"
      ],
      "metadata": {
        "id": "J2JYSid2iSqr"
      }
    },
    {
      "cell_type": "code",
      "source": [
        "df_train=pd.read_csv('/content/Polynomialdata_train.csv')\n",
        "df_train"
      ],
      "metadata": {
        "colab": {
          "base_uri": "https://localhost:8080/",
          "height": 423
        },
        "id": "NZtzrEVDGVWg",
        "outputId": "e3d28311-42c5-4136-8b0f-d73f99c081d6"
      },
      "execution_count": 2,
      "outputs": [
        {
          "output_type": "execute_result",
          "data": {
            "text/plain": [
              "             target  feature 1  feature 2  feature 3\n",
              "0      4.131528e+06   5.221849   7.295111  95.716846\n",
              "1      3.172975e-01  -5.106284   4.220085  -6.172360\n",
              "2      4.676422e+04  -4.218053  -7.573823 -39.493884\n",
              "3      1.404175e+05 -18.439122  -2.275148 -40.885857\n",
              "4      4.788988e+03  13.353046   3.103837  18.622367\n",
              "...             ...        ...        ...        ...\n",
              "49995  1.853922e+04 -25.309264  -6.094516  75.361431\n",
              "49996  6.379917e+03 -58.016982  -6.064214  27.146387\n",
              "49997  3.835601e+06  29.857894   1.422973  75.620505\n",
              "49998  2.580318e+04  10.793146   1.215972  34.437761\n",
              "49999  3.468171e+05  12.171702  -0.798756  60.245990\n",
              "\n",
              "[50000 rows x 4 columns]"
            ],
            "text/html": [
              "\n",
              "  <div id=\"df-abc685ec-d9c0-4ff0-a214-cfc659ad650b\" class=\"colab-df-container\">\n",
              "    <div>\n",
              "<style scoped>\n",
              "    .dataframe tbody tr th:only-of-type {\n",
              "        vertical-align: middle;\n",
              "    }\n",
              "\n",
              "    .dataframe tbody tr th {\n",
              "        vertical-align: top;\n",
              "    }\n",
              "\n",
              "    .dataframe thead th {\n",
              "        text-align: right;\n",
              "    }\n",
              "</style>\n",
              "<table border=\"1\" class=\"dataframe\">\n",
              "  <thead>\n",
              "    <tr style=\"text-align: right;\">\n",
              "      <th></th>\n",
              "      <th>target</th>\n",
              "      <th>feature 1</th>\n",
              "      <th>feature 2</th>\n",
              "      <th>feature 3</th>\n",
              "    </tr>\n",
              "  </thead>\n",
              "  <tbody>\n",
              "    <tr>\n",
              "      <th>0</th>\n",
              "      <td>4.131528e+06</td>\n",
              "      <td>5.221849</td>\n",
              "      <td>7.295111</td>\n",
              "      <td>95.716846</td>\n",
              "    </tr>\n",
              "    <tr>\n",
              "      <th>1</th>\n",
              "      <td>3.172975e-01</td>\n",
              "      <td>-5.106284</td>\n",
              "      <td>4.220085</td>\n",
              "      <td>-6.172360</td>\n",
              "    </tr>\n",
              "    <tr>\n",
              "      <th>2</th>\n",
              "      <td>4.676422e+04</td>\n",
              "      <td>-4.218053</td>\n",
              "      <td>-7.573823</td>\n",
              "      <td>-39.493884</td>\n",
              "    </tr>\n",
              "    <tr>\n",
              "      <th>3</th>\n",
              "      <td>1.404175e+05</td>\n",
              "      <td>-18.439122</td>\n",
              "      <td>-2.275148</td>\n",
              "      <td>-40.885857</td>\n",
              "    </tr>\n",
              "    <tr>\n",
              "      <th>4</th>\n",
              "      <td>4.788988e+03</td>\n",
              "      <td>13.353046</td>\n",
              "      <td>3.103837</td>\n",
              "      <td>18.622367</td>\n",
              "    </tr>\n",
              "    <tr>\n",
              "      <th>...</th>\n",
              "      <td>...</td>\n",
              "      <td>...</td>\n",
              "      <td>...</td>\n",
              "      <td>...</td>\n",
              "    </tr>\n",
              "    <tr>\n",
              "      <th>49995</th>\n",
              "      <td>1.853922e+04</td>\n",
              "      <td>-25.309264</td>\n",
              "      <td>-6.094516</td>\n",
              "      <td>75.361431</td>\n",
              "    </tr>\n",
              "    <tr>\n",
              "      <th>49996</th>\n",
              "      <td>6.379917e+03</td>\n",
              "      <td>-58.016982</td>\n",
              "      <td>-6.064214</td>\n",
              "      <td>27.146387</td>\n",
              "    </tr>\n",
              "    <tr>\n",
              "      <th>49997</th>\n",
              "      <td>3.835601e+06</td>\n",
              "      <td>29.857894</td>\n",
              "      <td>1.422973</td>\n",
              "      <td>75.620505</td>\n",
              "    </tr>\n",
              "    <tr>\n",
              "      <th>49998</th>\n",
              "      <td>2.580318e+04</td>\n",
              "      <td>10.793146</td>\n",
              "      <td>1.215972</td>\n",
              "      <td>34.437761</td>\n",
              "    </tr>\n",
              "    <tr>\n",
              "      <th>49999</th>\n",
              "      <td>3.468171e+05</td>\n",
              "      <td>12.171702</td>\n",
              "      <td>-0.798756</td>\n",
              "      <td>60.245990</td>\n",
              "    </tr>\n",
              "  </tbody>\n",
              "</table>\n",
              "<p>50000 rows × 4 columns</p>\n",
              "</div>\n",
              "    <div class=\"colab-df-buttons\">\n",
              "\n",
              "  <div class=\"colab-df-container\">\n",
              "    <button class=\"colab-df-convert\" onclick=\"convertToInteractive('df-abc685ec-d9c0-4ff0-a214-cfc659ad650b')\"\n",
              "            title=\"Convert this dataframe to an interactive table.\"\n",
              "            style=\"display:none;\">\n",
              "\n",
              "  <svg xmlns=\"http://www.w3.org/2000/svg\" height=\"24px\" viewBox=\"0 -960 960 960\">\n",
              "    <path d=\"M120-120v-720h720v720H120Zm60-500h600v-160H180v160Zm220 220h160v-160H400v160Zm0 220h160v-160H400v160ZM180-400h160v-160H180v160Zm440 0h160v-160H620v160ZM180-180h160v-160H180v160Zm440 0h160v-160H620v160Z\"/>\n",
              "  </svg>\n",
              "    </button>\n",
              "\n",
              "  <style>\n",
              "    .colab-df-container {\n",
              "      display:flex;\n",
              "      gap: 12px;\n",
              "    }\n",
              "\n",
              "    .colab-df-convert {\n",
              "      background-color: #E8F0FE;\n",
              "      border: none;\n",
              "      border-radius: 50%;\n",
              "      cursor: pointer;\n",
              "      display: none;\n",
              "      fill: #1967D2;\n",
              "      height: 32px;\n",
              "      padding: 0 0 0 0;\n",
              "      width: 32px;\n",
              "    }\n",
              "\n",
              "    .colab-df-convert:hover {\n",
              "      background-color: #E2EBFA;\n",
              "      box-shadow: 0px 1px 2px rgba(60, 64, 67, 0.3), 0px 1px 3px 1px rgba(60, 64, 67, 0.15);\n",
              "      fill: #174EA6;\n",
              "    }\n",
              "\n",
              "    .colab-df-buttons div {\n",
              "      margin-bottom: 4px;\n",
              "    }\n",
              "\n",
              "    [theme=dark] .colab-df-convert {\n",
              "      background-color: #3B4455;\n",
              "      fill: #D2E3FC;\n",
              "    }\n",
              "\n",
              "    [theme=dark] .colab-df-convert:hover {\n",
              "      background-color: #434B5C;\n",
              "      box-shadow: 0px 1px 3px 1px rgba(0, 0, 0, 0.15);\n",
              "      filter: drop-shadow(0px 1px 2px rgba(0, 0, 0, 0.3));\n",
              "      fill: #FFFFFF;\n",
              "    }\n",
              "  </style>\n",
              "\n",
              "    <script>\n",
              "      const buttonEl =\n",
              "        document.querySelector('#df-abc685ec-d9c0-4ff0-a214-cfc659ad650b button.colab-df-convert');\n",
              "      buttonEl.style.display =\n",
              "        google.colab.kernel.accessAllowed ? 'block' : 'none';\n",
              "\n",
              "      async function convertToInteractive(key) {\n",
              "        const element = document.querySelector('#df-abc685ec-d9c0-4ff0-a214-cfc659ad650b');\n",
              "        const dataTable =\n",
              "          await google.colab.kernel.invokeFunction('convertToInteractive',\n",
              "                                                    [key], {});\n",
              "        if (!dataTable) return;\n",
              "\n",
              "        const docLinkHtml = 'Like what you see? Visit the ' +\n",
              "          '<a target=\"_blank\" href=https://colab.research.google.com/notebooks/data_table.ipynb>data table notebook</a>'\n",
              "          + ' to learn more about interactive tables.';\n",
              "        element.innerHTML = '';\n",
              "        dataTable['output_type'] = 'display_data';\n",
              "        await google.colab.output.renderOutput(dataTable, element);\n",
              "        const docLink = document.createElement('div');\n",
              "        docLink.innerHTML = docLinkHtml;\n",
              "        element.appendChild(docLink);\n",
              "      }\n",
              "    </script>\n",
              "  </div>\n",
              "\n",
              "\n",
              "<div id=\"df-b68bfead-9772-40bb-9a28-b00a1ec0dd03\">\n",
              "  <button class=\"colab-df-quickchart\" onclick=\"quickchart('df-b68bfead-9772-40bb-9a28-b00a1ec0dd03')\"\n",
              "            title=\"Suggest charts\"\n",
              "            style=\"display:none;\">\n",
              "\n",
              "<svg xmlns=\"http://www.w3.org/2000/svg\" height=\"24px\"viewBox=\"0 0 24 24\"\n",
              "     width=\"24px\">\n",
              "    <g>\n",
              "        <path d=\"M19 3H5c-1.1 0-2 .9-2 2v14c0 1.1.9 2 2 2h14c1.1 0 2-.9 2-2V5c0-1.1-.9-2-2-2zM9 17H7v-7h2v7zm4 0h-2V7h2v10zm4 0h-2v-4h2v4z\"/>\n",
              "    </g>\n",
              "</svg>\n",
              "  </button>\n",
              "\n",
              "<style>\n",
              "  .colab-df-quickchart {\n",
              "      --bg-color: #E8F0FE;\n",
              "      --fill-color: #1967D2;\n",
              "      --hover-bg-color: #E2EBFA;\n",
              "      --hover-fill-color: #174EA6;\n",
              "      --disabled-fill-color: #AAA;\n",
              "      --disabled-bg-color: #DDD;\n",
              "  }\n",
              "\n",
              "  [theme=dark] .colab-df-quickchart {\n",
              "      --bg-color: #3B4455;\n",
              "      --fill-color: #D2E3FC;\n",
              "      --hover-bg-color: #434B5C;\n",
              "      --hover-fill-color: #FFFFFF;\n",
              "      --disabled-bg-color: #3B4455;\n",
              "      --disabled-fill-color: #666;\n",
              "  }\n",
              "\n",
              "  .colab-df-quickchart {\n",
              "    background-color: var(--bg-color);\n",
              "    border: none;\n",
              "    border-radius: 50%;\n",
              "    cursor: pointer;\n",
              "    display: none;\n",
              "    fill: var(--fill-color);\n",
              "    height: 32px;\n",
              "    padding: 0;\n",
              "    width: 32px;\n",
              "  }\n",
              "\n",
              "  .colab-df-quickchart:hover {\n",
              "    background-color: var(--hover-bg-color);\n",
              "    box-shadow: 0 1px 2px rgba(60, 64, 67, 0.3), 0 1px 3px 1px rgba(60, 64, 67, 0.15);\n",
              "    fill: var(--button-hover-fill-color);\n",
              "  }\n",
              "\n",
              "  .colab-df-quickchart-complete:disabled,\n",
              "  .colab-df-quickchart-complete:disabled:hover {\n",
              "    background-color: var(--disabled-bg-color);\n",
              "    fill: var(--disabled-fill-color);\n",
              "    box-shadow: none;\n",
              "  }\n",
              "\n",
              "  .colab-df-spinner {\n",
              "    border: 2px solid var(--fill-color);\n",
              "    border-color: transparent;\n",
              "    border-bottom-color: var(--fill-color);\n",
              "    animation:\n",
              "      spin 1s steps(1) infinite;\n",
              "  }\n",
              "\n",
              "  @keyframes spin {\n",
              "    0% {\n",
              "      border-color: transparent;\n",
              "      border-bottom-color: var(--fill-color);\n",
              "      border-left-color: var(--fill-color);\n",
              "    }\n",
              "    20% {\n",
              "      border-color: transparent;\n",
              "      border-left-color: var(--fill-color);\n",
              "      border-top-color: var(--fill-color);\n",
              "    }\n",
              "    30% {\n",
              "      border-color: transparent;\n",
              "      border-left-color: var(--fill-color);\n",
              "      border-top-color: var(--fill-color);\n",
              "      border-right-color: var(--fill-color);\n",
              "    }\n",
              "    40% {\n",
              "      border-color: transparent;\n",
              "      border-right-color: var(--fill-color);\n",
              "      border-top-color: var(--fill-color);\n",
              "    }\n",
              "    60% {\n",
              "      border-color: transparent;\n",
              "      border-right-color: var(--fill-color);\n",
              "    }\n",
              "    80% {\n",
              "      border-color: transparent;\n",
              "      border-right-color: var(--fill-color);\n",
              "      border-bottom-color: var(--fill-color);\n",
              "    }\n",
              "    90% {\n",
              "      border-color: transparent;\n",
              "      border-bottom-color: var(--fill-color);\n",
              "    }\n",
              "  }\n",
              "</style>\n",
              "\n",
              "  <script>\n",
              "    async function quickchart(key) {\n",
              "      const quickchartButtonEl =\n",
              "        document.querySelector('#' + key + ' button');\n",
              "      quickchartButtonEl.disabled = true;  // To prevent multiple clicks.\n",
              "      quickchartButtonEl.classList.add('colab-df-spinner');\n",
              "      try {\n",
              "        const charts = await google.colab.kernel.invokeFunction(\n",
              "            'suggestCharts', [key], {});\n",
              "      } catch (error) {\n",
              "        console.error('Error during call to suggestCharts:', error);\n",
              "      }\n",
              "      quickchartButtonEl.classList.remove('colab-df-spinner');\n",
              "      quickchartButtonEl.classList.add('colab-df-quickchart-complete');\n",
              "    }\n",
              "    (() => {\n",
              "      let quickchartButtonEl =\n",
              "        document.querySelector('#df-b68bfead-9772-40bb-9a28-b00a1ec0dd03 button');\n",
              "      quickchartButtonEl.style.display =\n",
              "        google.colab.kernel.accessAllowed ? 'block' : 'none';\n",
              "    })();\n",
              "  </script>\n",
              "</div>\n",
              "    </div>\n",
              "  </div>\n"
            ],
            "application/vnd.google.colaboratory.intrinsic+json": {
              "type": "dataframe",
              "variable_name": "df_train",
              "summary": "{\n  \"name\": \"df_train\",\n  \"rows\": 50000,\n  \"fields\": [\n    {\n      \"column\": \"target\",\n      \"properties\": {\n        \"dtype\": \"number\",\n        \"std\": 11394667.776273064,\n        \"min\": -535.3391335081861,\n        \"max\": 839277273.4629648,\n        \"num_unique_values\": 50000,\n        \"samples\": [\n          219.8919482428659,\n          526476.8016515652,\n          22.745895426701452\n        ],\n        \"semantic_type\": \"\",\n        \"description\": \"\"\n      }\n    },\n    {\n      \"column\": \"feature 1\",\n      \"properties\": {\n        \"dtype\": \"number\",\n        \"std\": 21.842028393315516,\n        \"min\": -102.14208698613352,\n        \"max\": 92.6760997370983,\n        \"num_unique_values\": 50000,\n        \"samples\": [\n          -18.021138648246836,\n          30.997499918792897,\n          37.1797814774877\n        ],\n        \"semantic_type\": \"\",\n        \"description\": \"\"\n      }\n    },\n    {\n      \"column\": \"feature 2\",\n      \"properties\": {\n        \"dtype\": \"number\",\n        \"std\": 4.000527298955052,\n        \"min\": -17.236805046145093,\n        \"max\": 17.64705930881439,\n        \"num_unique_values\": 50000,\n        \"samples\": [\n          1.758503340966947,\n          -0.6389274981294994,\n          7.402011172817156\n        ],\n        \"semantic_type\": \"\",\n        \"description\": \"\"\n      }\n    },\n    {\n      \"column\": \"feature 3\",\n      \"properties\": {\n        \"dtype\": \"number\",\n        \"std\": 56.04590725069458,\n        \"min\": -251.34620603618356,\n        \"max\": 232.6831836057284,\n        \"num_unique_values\": 50000,\n        \"samples\": [\n          -4.735636913002452,\n          -107.13718116842152,\n          -32.727822066104615\n        ],\n        \"semantic_type\": \"\",\n        \"description\": \"\"\n      }\n    }\n  ]\n}"
            }
          },
          "metadata": {},
          "execution_count": 2
        }
      ]
    },
    {
      "cell_type": "code",
      "source": [
        "x=df_train.drop(['target'],axis=1).values\n",
        "y=df_train['target'].values\n",
        "x"
      ],
      "metadata": {
        "colab": {
          "base_uri": "https://localhost:8080/"
        },
        "id": "OJUsXNRQORIc",
        "outputId": "9103ae1d-290c-443a-e79f-efe4ba6b2184"
      },
      "execution_count": 57,
      "outputs": [
        {
          "output_type": "execute_result",
          "data": {
            "text/plain": [
              "array([[  5.22184894,   7.29511056,  95.71684555],\n",
              "       [ -5.10628445,   4.22008546,  -6.17236   ],\n",
              "       [ -4.21805344,  -7.57382297, -39.49388399],\n",
              "       ...,\n",
              "       [ 29.85789417,   1.42297302,  75.62050543],\n",
              "       [ 10.79314567,   1.21597176,  34.43776063],\n",
              "       [ 12.17170222,  -0.79875632,  60.24598982]])"
            ]
          },
          "metadata": {},
          "execution_count": 57
        }
      ]
    },
    {
      "cell_type": "markdown",
      "source": [
        "Spiltting into Training set and Validation set"
      ],
      "metadata": {
        "id": "IDxMGSysidUr"
      }
    },
    {
      "cell_type": "code",
      "source": [
        "spilt_ratio=0.8\n",
        "spilt_index=int(spilt_ratio* x.shape[0])\n",
        "x_train=x[:spilt_index]\n",
        "x_val=x[spilt_index:]\n",
        "y_train=y[:spilt_index]\n",
        "y_val=y[spilt_index:]\n",
        "x_train.shape"
      ],
      "metadata": {
        "colab": {
          "base_uri": "https://localhost:8080/"
        },
        "id": "3q-ZiOMDX02C",
        "outputId": "14b79f19-bd57-4932-f701-fdc54405670b"
      },
      "execution_count": 58,
      "outputs": [
        {
          "output_type": "execute_result",
          "data": {
            "text/plain": [
              "(40000, 3)"
            ]
          },
          "metadata": {},
          "execution_count": 58
        }
      ]
    },
    {
      "cell_type": "markdown",
      "source": [
        "Plotting Graph between different features and Target values"
      ],
      "metadata": {
        "id": "OXh6OlCWimej"
      }
    },
    {
      "cell_type": "code",
      "source": [
        "plt.figure(figsize=(10,5))\n",
        "plt.title(\"Features vs Target\")\n",
        "#plot1 - feature1 vs target\n",
        "plt.subplot(1,3,1)\n",
        "plt.scatter(x_train[:,:1],y_train)\n",
        "plt.xlabel('Feature-1')\n",
        "plt.ylabel('Target')\n",
        "\n",
        "#plot1 - feature1 vs target\n",
        "plt.subplot(1,3,2)\n",
        "plt.scatter(x_train[:,1:2],y_train)\n",
        "plt.xlabel('Feature-2')\n",
        "plt.ylabel('Target')\n",
        "\n",
        "#plot1 - feature1 vs target\n",
        "plt.subplot(1,3,3)\n",
        "plt.scatter(x_train[:,2:3],y_train)\n",
        "plt.xlabel('Feature-3')\n",
        "plt.ylabel('Target')\n",
        "\n",
        "plt.tight_layout()\n",
        "plt.show()"
      ],
      "metadata": {
        "colab": {
          "base_uri": "https://localhost:8080/",
          "height": 562
        },
        "id": "FjAUjurDMoMm",
        "outputId": "a5ed716d-8a03-40c9-9ce7-d728013c789d"
      },
      "execution_count": 59,
      "outputs": [
        {
          "output_type": "stream",
          "name": "stderr",
          "text": [
            "<ipython-input-59-ab940199bcf7>:4: MatplotlibDeprecationWarning: Auto-removal of overlapping axes is deprecated since 3.6 and will be removed two minor releases later; explicitly call ax.remove() as needed.\n",
            "  plt.subplot(1,3,1)\n"
          ]
        },
        {
          "output_type": "display_data",
          "data": {
            "text/plain": [
              "<Figure size 1000x500 with 3 Axes>"
            ],
            "image/png": "[encoded data removed]"
          },
          "metadata": {}
        }
      ]
    },
    {
      "cell_type": "markdown",
      "source": [
        "Defining different function to train the model"
      ],
      "metadata": {
        "id": "krbl_2vCi986"
      }
    },
    {
      "cell_type": "code",
      "source": [
        "def compute_cost(x,y,w,b):\n",
        "    m,n = x.shape\n",
        "    f_wb = np.dot(x,w)+b\n",
        "    cost = np.sum((f_wb - y)**2)\n",
        "    cost = (cost)/(2*m)\n",
        "    return cost"
      ],
      "metadata": {
        "id": "zccG9keuYy4c"
      },
      "execution_count": 60,
      "outputs": []
    },
    {
      "cell_type": "code",
      "source": [
        "def compute_gradient(x,y,w,b):\n",
        "    m,n = x.shape\n",
        "    dj_dw= np.zeros(n)\n",
        "    f_wb = np.dot(x,w)+b\n",
        "    dj_db = np.mean((f_wb- y))\n",
        "    dj_dw  =  (f_wb - y)@x\n",
        "    dj_dw = (dj_dw)/m\n",
        "    return dj_dw,dj_db"
      ],
      "metadata": {
        "id": "ytp5Z4Vst-su"
      },
      "execution_count": 61,
      "outputs": []
    },
    {
      "cell_type": "code",
      "source": [
        "def gradient_descent(x,y,alpha, iterations):\n",
        "    m,n=x.shape\n",
        "    w=np.zeros(n)\n",
        "    b=0\n",
        "    cost=[]\n",
        "    for i in range(iterations):\n",
        "        dj_dw,dj_db=compute_gradient(x,y,w,b)\n",
        "        w-= alpha*dj_dw\n",
        "        b-=alpha*dj_db\n",
        "        c=compute_cost(x,y,w,b)\n",
        "        cost.append(c)\n",
        "        if i%(iterations/10)==0:\n",
        "           print(\"Iteration= \",i)\n",
        "           print(\"Cost= \", c)\n",
        "    return w,b,cost"
      ],
      "metadata": {
        "id": "K6ECHUaYurwu"
      },
      "execution_count": 62,
      "outputs": []
    },
    {
      "cell_type": "markdown",
      "source": [
        "Fitting into a Polynomial"
      ],
      "metadata": {
        "id": "4joQFkOsJvRX"
      }
    },
    {
      "cell_type": "code",
      "source": [
        "def count_combinations(degree):\n",
        "    count=0\n",
        "    for i in range(degree+1):\n",
        "        for j in range(degree+1):\n",
        "            for k in range(degree+1):\n",
        "                if i+j+k<=degree:\n",
        "                    count+=1\n",
        "    return count"
      ],
      "metadata": {
        "id": "3D326rItk0vt"
      },
      "execution_count": 63,
      "outputs": []
    },
    {
      "cell_type": "code",
      "source": [
        "def fit_polynomial(x,degree):\n",
        "    m,n=x.shape\n",
        "    count=count_combinations(degree)\n",
        "    x_poly=np.ones((m,count))\n",
        "    index=0\n",
        "    for i in range(degree+1):\n",
        "        for j in range(degree+1):\n",
        "            for k in range(degree+1):\n",
        "                if i+j+k<=degree:\n",
        "                    x_poly[:,index]=((x[:,0])**i) *((x[:,1])**j)* ((x[:,2])**k)\n",
        "                    index+=1\n",
        "    return x_poly"
      ],
      "metadata": {
        "id": "YYk933cZKeLR"
      },
      "execution_count": 64,
      "outputs": []
    },
    {
      "cell_type": "code",
      "source": [
        "x_train_poly1=np.delete(fit_polynomial(x_train,6),0,axis=1)\n",
        "x_val_poly1=np.delete(fit_polynomial(x_val,6),0,axis=1)\n",
        "x_train_poly1"
      ],
      "metadata": {
        "colab": {
          "base_uri": "https://localhost:8080/"
        },
        "id": "nIsZ_gy1MwOP",
        "outputId": "603d7c57-abd1-4f1f-9c75-2a74730fe258"
      },
      "execution_count": 65,
      "outputs": [
        {
          "output_type": "execute_result",
          "data": {
            "text/plain": [
              "array([[ 9.57168455e+01,  9.16171452e+03,  8.76930414e+05, ...,\n",
              "         3.71629259e+05,  2.83239227e+04,  2.02742980e+04],\n",
              "       [-6.17236000e+00,  3.80980280e+01, -2.35154744e+02, ...,\n",
              "         2.14277350e+04, -1.46502914e+04,  1.77267868e+04],\n",
              "       [-3.94938840e+01,  1.55976687e+03, -6.16012519e+04, ...,\n",
              "         5.27339419e+04,  1.01128960e+04,  5.63212737e+03],\n",
              "       ...,\n",
              "       [ 4.03525665e+01,  1.62832963e+03,  6.57072795e+04, ...,\n",
              "         1.75504544e+07,  4.62824913e+05,  5.83580329e+06],\n",
              "       [-6.68519542e+01,  4.46918379e+03, -2.98773670e+05, ...,\n",
              "        -9.41891849e+06, -5.71164784e+05,  1.50891341e+06],\n",
              "       [-2.70882477e+01,  7.33773163e+02, -1.98766292e+04, ...,\n",
              "         1.26367331e+10,  2.26022235e+09,  2.52711312e+10]])"
            ]
          },
          "metadata": {},
          "execution_count": 65
        }
      ]
    },
    {
      "cell_type": "markdown",
      "source": [
        "Normalisation"
      ],
      "metadata": {
        "id": "-qd1H51KjHR2"
      }
    },
    {
      "cell_type": "code",
      "source": [
        "def normalisation(x):\n",
        "    mean=np.mean(x,axis=0)\n",
        "    std=np.std(x,axis=0)\n",
        "    x_norm=(x-mean)/std\n",
        "    return x_norm"
      ],
      "metadata": {
        "id": "i6o1tJqlXExg"
      },
      "execution_count": 66,
      "outputs": []
    },
    {
      "cell_type": "code",
      "source": [
        "x_train_poly=normalisation(x_train_poly1)\n",
        "x_train_poly"
      ],
      "metadata": {
        "colab": {
          "base_uri": "https://localhost:8080/"
        },
        "id": "CHGCX1aCXvWa",
        "outputId": "0ef9c1d1-f043-48c4-c4df-d34daedccc7f"
      },
      "execution_count": 68,
      "outputs": [
        {
          "output_type": "execute_result",
          "data": {
            "text/plain": [
              "array([[ 1.70761776e+00,  1.35640296e+00,  1.28501544e+00, ...,\n",
              "         7.37066397e-03, -7.52350331e-03, -1.37813966e-01],\n",
              "       [-1.10051980e-01, -6.99442224e-01, -4.54582516e-04, ...,\n",
              "         7.32765392e-03, -7.58547275e-03, -1.37814174e-01],\n",
              "       [-7.04496952e-01, -3.56561135e-01, -9.03854705e-02, ...,\n",
              "         7.33149880e-03, -7.54976388e-03, -1.37815157e-01],\n",
              "       ...,\n",
              "       [ 7.19937329e-01, -3.41111734e-01,  9.61828434e-02, ...,\n",
              "         9.48048372e-03, -6.89694657e-03, -1.37341216e-01],\n",
              "       [-1.19255588e+00,  2.99024373e-01, -4.37957292e-01, ...,\n",
              "         6.16823651e-03, -8.38797474e-03, -1.37692953e-01],\n",
              "       [-4.83184502e-01, -5.42684169e-01, -2.92388025e-02, ...,\n",
              "         1.55930712e+00,  3.25170913e+00,  1.91650285e+00]])"
            ]
          },
          "metadata": {},
          "execution_count": 68
        }
      ]
    },
    {
      "cell_type": "code",
      "source": [
        "plt.figure(figsize=(10,5))\n",
        "plt.scatter(x_train[:,0],x_train[:,1])\n",
        "plt.xlabel(\"Feature-1\")\n",
        "plt.ylabel(\"Feature-2\")\n",
        "plt.show();"
      ],
      "metadata": {
        "colab": {
          "base_uri": "https://localhost:8080/",
          "height": 445
        },
        "id": "NQUqy-xsYMf7",
        "outputId": "16a1fe29-98ba-4742-b7c6-e76987380e6b"
      },
      "execution_count": 69,
      "outputs": [
        {
          "output_type": "display_data",
          "data": {
            "text/plain": [
              "<Figure size 1000x500 with 1 Axes>"
            ],
            "image/png": "[encoded data removed]"
          },
          "metadata": {}
        }
      ]
    },
    {
      "cell_type": "markdown",
      "source": [
        "Training the model"
      ],
      "metadata": {
        "id": "WpelBWbbjK7L"
      }
    },
    {
      "cell_type": "code",
      "source": [
        "w,b,cost=gradient_descent(x_train_poly,y_train,alpha=0.01, iterations=10000)"
      ],
      "metadata": {
        "colab": {
          "base_uri": "https://localhost:8080/"
        },
        "id": "ZDr_dtEYNg45",
        "outputId": "27f41939-84f3-4d92-f92b-ae051b13e132"
      },
      "execution_count": 70,
      "outputs": [
        {
          "output_type": "stream",
          "name": "stdout",
          "text": [
            "Iteration=  0\n",
            "Cost=  57659354057931.87\n",
            "Iteration=  1000\n",
            "Cost=  297541951026.86615\n",
            "Iteration=  2000\n",
            "Cost=  151405864921.7153\n",
            "Iteration=  3000\n",
            "Cost=  103192389751.31352\n",
            "Iteration=  4000\n",
            "Cost=  76024811976.65442\n",
            "Iteration=  5000\n",
            "Cost=  58204790110.06072\n",
            "Iteration=  6000\n",
            "Cost=  45668595410.9353\n",
            "Iteration=  7000\n",
            "Cost=  36435656071.002335\n",
            "Iteration=  8000\n",
            "Cost=  29405784946.701443\n",
            "Iteration=  9000\n",
            "Cost=  23922114873.31855\n"
          ]
        }
      ]
    },
    {
      "cell_type": "code",
      "source": [
        "plt.plot(np.arange(len(cost)),cost)\n",
        "plt.xlabel(\"No.of Iterations\")\n",
        "plt.ylabel(\"Cost\")\n",
        "plt.show()"
      ],
      "metadata": {
        "colab": {
          "base_uri": "https://localhost:8080/",
          "height": 465
        },
        "id": "tYjzZ-HLPSIp",
        "outputId": "1a2f37bd-0cbb-4bb6-8999-053e075ba61a"
      },
      "execution_count": 71,
      "outputs": [
        {
          "output_type": "display_data",
          "data": {
            "text/plain": [
              "<Figure size 640x480 with 1 Axes>"
            ],
            "image/png": "[encoded data removed]"
          },
          "metadata": {}
        }
      ]
    },
    {
      "cell_type": "code",
      "source": [
        "w"
      ],
      "metadata": {
        "colab": {
          "base_uri": "https://localhost:8080/"
        },
        "id": "899sjP5bQzGw",
        "outputId": "f392f230-da37-485e-abd6-c507673c33d3"
      },
      "execution_count": 72,
      "outputs": [
        {
          "output_type": "execute_result",
          "data": {
            "text/plain": [
              "array([-7.46920912e+04, -6.82369449e+05,  1.87740083e+05,  1.30760422e+06,\n",
              "       -1.71361529e+05,  8.00205800e+06,  4.53924383e+03,  7.50175487e+04,\n",
              "        3.58778242e+02, -2.20110073e+05, -3.58613837e+03,  1.16553577e+06,\n",
              "       -2.86239341e+04, -8.48374639e+01,  2.01435477e+05,  1.68725008e+04,\n",
              "       -8.18506625e+04, -6.15521362e+03,  1.03331314e+04, -2.61597708e+02,\n",
              "       -9.60285654e+03, -2.65243854e+04, -9.04621008e+03, -1.94605592e+04,\n",
              "        1.87429777e+03,  1.27217548e+03,  1.71253931e+04, -8.97786785e+03,\n",
              "       -3.12370289e+05,  4.76107309e+04,  6.34712403e+05, -6.28433446e+04,\n",
              "        5.96256203e+06,  1.44527078e+04, -1.75143117e+04, -6.85505668e+04,\n",
              "        9.08421666e+03,  6.32363745e+05, -2.65409138e+03,  4.51852221e+04,\n",
              "        4.41685251e+02,  1.22362610e+04,  1.02052812e+04,  1.15556212e+04,\n",
              "       -2.26975427e+03, -3.05317457e+03, -1.79809678e+03, -8.80759353e+03,\n",
              "       -7.29754584e+04,  2.68200594e+04,  3.43047489e+05, -3.24124931e+04,\n",
              "        2.87964662e+06, -1.94684230e+04, -3.22261964e+04,  1.12206300e+04,\n",
              "        3.36007404e+05, -1.86738678e+04,  1.25990608e+03, -9.88531182e+02,\n",
              "        1.00072400e+04,  4.07750496e+03,  2.00675629e+04, -5.80282000e+03,\n",
              "        2.01503465e+05,  1.42113588e+03,  1.06379967e+06, -9.89409072e+03,\n",
              "        8.42225370e+03,  1.55352294e+05,  8.43592413e+03,  2.92423154e+03,\n",
              "        6.42298773e+03,  5.58825458e+03, -7.15372872e+03,  3.26488099e+05,\n",
              "        1.07861630e+04,  5.55950688e+04,  1.61862846e+04, -1.14597816e+03,\n",
              "        7.73118855e+04,  2.11970234e+03,  5.62034525e+04])"
            ]
          },
          "metadata": {},
          "execution_count": 72
        }
      ]
    },
    {
      "cell_type": "code",
      "source": [
        "b"
      ],
      "metadata": {
        "colab": {
          "base_uri": "https://localhost:8080/"
        },
        "id": "GTJfQPHAZHUU",
        "outputId": "4fb9b40e-a6a7-4244-f9a9-77a9f65d831b"
      },
      "execution_count": 73,
      "outputs": [
        {
          "output_type": "execute_result",
          "data": {
            "text/plain": [
              "1745315.6901033793"
            ]
          },
          "metadata": {},
          "execution_count": 73
        }
      ]
    },
    {
      "cell_type": "markdown",
      "source": [
        "Making the model to predict the output of validation set"
      ],
      "metadata": {
        "id": "H_o0J8a6jq7a"
      }
    },
    {
      "cell_type": "code",
      "source": [
        "def predict(x,w,b):\n",
        "    pred=np.dot(x,w)+b\n",
        "    return pred"
      ],
      "metadata": {
        "id": "ytXoz3C-afSo"
      },
      "execution_count": 74,
      "outputs": []
    },
    {
      "cell_type": "code",
      "source": [
        "x_val_poly=normalisation(x_val_poly1)\n",
        "x_val"
      ],
      "metadata": {
        "colab": {
          "base_uri": "https://localhost:8080/"
        },
        "id": "Ni7BMy45a6l2",
        "outputId": "0f40d030-749e-4a3f-942a-e682948e273b"
      },
      "execution_count": 75,
      "outputs": [
        {
          "output_type": "execute_result",
          "data": {
            "text/plain": [
              "array([[ 23.62686071,  -1.18028591, 116.25551837],\n",
              "       [ 23.9199608 ,   2.38170772, -51.8418781 ],\n",
              "       [ 22.83891031,   0.30767371,  11.86671588],\n",
              "       ...,\n",
              "       [ 29.85789417,   1.42297302,  75.62050543],\n",
              "       [ 10.79314567,   1.21597176,  34.43776063],\n",
              "       [ 12.17170222,  -0.79875632,  60.24598982]])"
            ]
          },
          "metadata": {},
          "execution_count": 75
        }
      ]
    },
    {
      "cell_type": "code",
      "source": [
        "y_val_pred=predict(x_val_poly,w,b)\n",
        "for i in range(10):\n",
        "    print(\"y_val_pred=\", y_val_pred[i])\n",
        "    print(\"y_val_true=\", y_val[i])"
      ],
      "metadata": {
        "colab": {
          "base_uri": "https://localhost:8080/"
        },
        "id": "wW2_SIalapss",
        "outputId": "5fa706f9-984b-4cad-8463-56347e97e2ea"
      },
      "execution_count": 76,
      "outputs": [
        {
          "output_type": "stream",
          "name": "stdout",
          "text": [
            "y_val_pred= 20455931.85289576\n",
            "y_val_true= 18299164.91764202\n",
            "y_val_pred= -286552.36347744474\n",
            "y_val_true= 714.9656764522823\n",
            "y_val_pred= -321140.7411000023\n",
            "y_val_true= 4736.492247834457\n",
            "y_val_pred= -417177.66285933205\n",
            "y_val_true= 80594.80337009717\n",
            "y_val_pred= -373007.32355017005\n",
            "y_val_true= 13636.624225980971\n",
            "y_val_pred= -228899.88873374532\n",
            "y_val_true= 211740.12994477391\n",
            "y_val_pred= 265620.8468217137\n",
            "y_val_true= 703049.4094531193\n",
            "y_val_pred= -197674.76870075776\n",
            "y_val_true= 227.69907455565576\n",
            "y_val_pred= -372006.4750854864\n",
            "y_val_true= 11146.446118996231\n",
            "y_val_pred= -226288.38225466758\n",
            "y_val_true= 1074.4716243231164\n"
          ]
        }
      ]
    },
    {
      "cell_type": "markdown",
      "source": [
        "Graph between predicted values and true values for validation set"
      ],
      "metadata": {
        "id": "2LVZfYHnjxHP"
      }
    },
    {
      "cell_type": "code",
      "source": [
        "plt.figure(figsize=(15,5))\n",
        "for i in range(3):\n",
        "    plt.subplot(1,3,i+1)\n",
        "    plt.scatter(x_val[:,i],y_val,color='r',marker='*',label=\"True value\")\n",
        "    plt.scatter(x_val[:,i],y_val_pred,color='b',label=\"Predicted value\")\n",
        "plt.show()"
      ],
      "metadata": {
        "colab": {
          "base_uri": "https://localhost:8080/",
          "height": 480
        },
        "id": "x0GyeQabdaNm",
        "outputId": "9cfc6fba-1655-48f4-ca7f-a6519b623f98"
      },
      "execution_count": 86,
      "outputs": [
        {
          "output_type": "display_data",
          "data": {
            "text/plain": [
              "<Figure size 1500x500 with 3 Axes>"
            ],
            "image/png": "[encoded data removed]"
          },
          "metadata": {}
        }
      ]
    },
    {
      "cell_type": "markdown",
      "source": [
        "R2 Score of validation set"
      ],
      "metadata": {
        "id": "fG3DWygHj_ik"
      }
    },
    {
      "cell_type": "code",
      "source": [
        "ssr=np.sum((y_val-y_val_pred)**2)\n",
        "sst=np.sum((y_val-np.mean(y_val))**2)\n",
        "R2_score= 1-(ssr/sst)\n",
        "print(\"R2 score=\", R2_score)"
      ],
      "metadata": {
        "colab": {
          "base_uri": "https://localhost:8080/"
        },
        "id": "CmiroHzAfkLW",
        "outputId": "cfe76a82-ab8c-4273-c8db-bc17805c5903"
      },
      "execution_count": 80,
      "outputs": [
        {
          "output_type": "stream",
          "name": "stdout",
          "text": [
            "R2 score= 0.9882882760497868\n"
          ]
        }
      ]
    },
    {
      "cell_type": "markdown",
      "source": [
        "Testing the model"
      ],
      "metadata": {
        "id": "mt9Q74ykkQf2"
      }
    },
    {
      "cell_type": "code",
      "source": [
        "df_test=pd.read_csv('/content/Polynomialdata_test.csv')\n",
        "df_test"
      ],
      "metadata": {
        "colab": {
          "base_uri": "https://localhost:8080/",
          "height": 423
        },
        "id": "sXty4lGHRIcs",
        "outputId": "f6c3770b-51b4-4333-a210-2ef44668c7a2"
      },
      "execution_count": 83,
      "outputs": [
        {
          "output_type": "execute_result",
          "data": {
            "text/plain": [
              "         ID  feature 1  feature 2  feature 3\n",
              "0     16588  36.247643  -2.372704  43.835947\n",
              "1     17513   5.903779   5.460086 -96.149414\n",
              "2     14448 -37.298157   6.869786 -14.084487\n",
              "3     13972 -40.080077   2.395066 -43.432941\n",
              "4     18321 -20.417799  -2.194459   5.737226\n",
              "...     ...        ...        ...        ...\n",
              "9995  19691 -13.571554   2.931176  76.902716\n",
              "9996  10512  -2.015904  -2.827700   4.999604\n",
              "9997  17741  47.095192  -1.977461  39.044902\n",
              "9998  18381  -1.808178  -0.693782  57.918628\n",
              "9999  12054  19.958034   2.294516 -16.082546\n",
              "\n",
              "[10000 rows x 4 columns]"
            ],
            "text/html": [
              "\n",
              "  <div id=\"df-0fc18e75-ba0b-4303-b67a-152252a14e43\" class=\"colab-df-container\">\n",
              "    <div>\n",
              "<style scoped>\n",
              "    .dataframe tbody tr th:only-of-type {\n",
              "        vertical-align: middle;\n",
              "    }\n",
              "\n",
              "    .dataframe tbody tr th {\n",
              "        vertical-align: top;\n",
              "    }\n",
              "\n",
              "    .dataframe thead th {\n",
              "        text-align: right;\n",
              "    }\n",
              "</style>\n",
              "<table border=\"1\" class=\"dataframe\">\n",
              "  <thead>\n",
              "    <tr style=\"text-align: right;\">\n",
              "      <th></th>\n",
              "      <th>ID</th>\n",
              "      <th>feature 1</th>\n",
              "      <th>feature 2</th>\n",
              "      <th>feature 3</th>\n",
              "    </tr>\n",
              "  </thead>\n",
              "  <tbody>\n",
              "    <tr>\n",
              "      <th>0</th>\n",
              "      <td>16588</td>\n",
              "      <td>36.247643</td>\n",
              "      <td>-2.372704</td>\n",
              "      <td>43.835947</td>\n",
              "    </tr>\n",
              "    <tr>\n",
              "      <th>1</th>\n",
              "      <td>17513</td>\n",
              "      <td>5.903779</td>\n",
              "      <td>5.460086</td>\n",
              "      <td>-96.149414</td>\n",
              "    </tr>\n",
              "    <tr>\n",
              "      <th>2</th>\n",
              "      <td>14448</td>\n",
              "      <td>-37.298157</td>\n",
              "      <td>6.869786</td>\n",
              "      <td>-14.084487</td>\n",
              "    </tr>\n",
              "    <tr>\n",
              "      <th>3</th>\n",
              "      <td>13972</td>\n",
              "      <td>-40.080077</td>\n",
              "      <td>2.395066</td>\n",
              "      <td>-43.432941</td>\n",
              "    </tr>\n",
              "    <tr>\n",
              "      <th>4</th>\n",
              "      <td>18321</td>\n",
              "      <td>-20.417799</td>\n",
              "      <td>-2.194459</td>\n",
              "      <td>5.737226</td>\n",
              "    </tr>\n",
              "    <tr>\n",
              "      <th>...</th>\n",
              "      <td>...</td>\n",
              "      <td>...</td>\n",
              "      <td>...</td>\n",
              "      <td>...</td>\n",
              "    </tr>\n",
              "    <tr>\n",
              "      <th>9995</th>\n",
              "      <td>19691</td>\n",
              "      <td>-13.571554</td>\n",
              "      <td>2.931176</td>\n",
              "      <td>76.902716</td>\n",
              "    </tr>\n",
              "    <tr>\n",
              "      <th>9996</th>\n",
              "      <td>10512</td>\n",
              "      <td>-2.015904</td>\n",
              "      <td>-2.827700</td>\n",
              "      <td>4.999604</td>\n",
              "    </tr>\n",
              "    <tr>\n",
              "      <th>9997</th>\n",
              "      <td>17741</td>\n",
              "      <td>47.095192</td>\n",
              "      <td>-1.977461</td>\n",
              "      <td>39.044902</td>\n",
              "    </tr>\n",
              "    <tr>\n",
              "      <th>9998</th>\n",
              "      <td>18381</td>\n",
              "      <td>-1.808178</td>\n",
              "      <td>-0.693782</td>\n",
              "      <td>57.918628</td>\n",
              "    </tr>\n",
              "    <tr>\n",
              "      <th>9999</th>\n",
              "      <td>12054</td>\n",
              "      <td>19.958034</td>\n",
              "      <td>2.294516</td>\n",
              "      <td>-16.082546</td>\n",
              "    </tr>\n",
              "  </tbody>\n",
              "</table>\n",
              "<p>10000 rows × 4 columns</p>\n",
              "</div>\n",
              "    <div class=\"colab-df-buttons\">\n",
              "\n",
              "  <div class=\"colab-df-container\">\n",
              "    <button class=\"colab-df-convert\" onclick=\"convertToInteractive('df-0fc18e75-ba0b-4303-b67a-152252a14e43')\"\n",
              "            title=\"Convert this dataframe to an interactive table.\"\n",
              "            style=\"display:none;\">\n",
              "\n",
              "  <svg xmlns=\"http://www.w3.org/2000/svg\" height=\"24px\" viewBox=\"0 -960 960 960\">\n",
              "    <path d=\"M120-120v-720h720v720H120Zm60-500h600v-160H180v160Zm220 220h160v-160H400v160Zm0 220h160v-160H400v160ZM180-400h160v-160H180v160Zm440 0h160v-160H620v160ZM180-180h160v-160H180v160Zm440 0h160v-160H620v160Z\"/>\n",
              "  </svg>\n",
              "    </button>\n",
              "\n",
              "  <style>\n",
              "    .colab-df-container {\n",
              "      display:flex;\n",
              "      gap: 12px;\n",
              "    }\n",
              "\n",
              "    .colab-df-convert {\n",
              "      background-color: #E8F0FE;\n",
              "      border: none;\n",
              "      border-radius: 50%;\n",
              "      cursor: pointer;\n",
              "      display: none;\n",
              "      fill: #1967D2;\n",
              "      height: 32px;\n",
              "      padding: 0 0 0 0;\n",
              "      width: 32px;\n",
              "    }\n",
              "\n",
              "    .colab-df-convert:hover {\n",
              "      background-color: #E2EBFA;\n",
              "      box-shadow: 0px 1px 2px rgba(60, 64, 67, 0.3), 0px 1px 3px 1px rgba(60, 64, 67, 0.15);\n",
              "      fill: #174EA6;\n",
              "    }\n",
              "\n",
              "    .colab-df-buttons div {\n",
              "      margin-bottom: 4px;\n",
              "    }\n",
              "\n",
              "    [theme=dark] .colab-df-convert {\n",
              "      background-color: #3B4455;\n",
              "      fill: #D2E3FC;\n",
              "    }\n",
              "\n",
              "    [theme=dark] .colab-df-convert:hover {\n",
              "      background-color: #434B5C;\n",
              "      box-shadow: 0px 1px 3px 1px rgba(0, 0, 0, 0.15);\n",
              "      filter: drop-shadow(0px 1px 2px rgba(0, 0, 0, 0.3));\n",
              "      fill: #FFFFFF;\n",
              "    }\n",
              "  </style>\n",
              "\n",
              "    <script>\n",
              "      const buttonEl =\n",
              "        document.querySelector('#df-0fc18e75-ba0b-4303-b67a-152252a14e43 button.colab-df-convert');\n",
              "      buttonEl.style.display =\n",
              "        google.colab.kernel.accessAllowed ? 'block' : 'none';\n",
              "\n",
              "      async function convertToInteractive(key) {\n",
              "        const element = document.querySelector('#df-0fc18e75-ba0b-4303-b67a-152252a14e43');\n",
              "        const dataTable =\n",
              "          await google.colab.kernel.invokeFunction('convertToInteractive',\n",
              "                                                    [key], {});\n",
              "        if (!dataTable) return;\n",
              "\n",
              "        const docLinkHtml = 'Like what you see? Visit the ' +\n",
              "          '<a target=\"_blank\" href=https://colab.research.google.com/notebooks/data_table.ipynb>data table notebook</a>'\n",
              "          + ' to learn more about interactive tables.';\n",
              "        element.innerHTML = '';\n",
              "        dataTable['output_type'] = 'display_data';\n",
              "        await google.colab.output.renderOutput(dataTable, element);\n",
              "        const docLink = document.createElement('div');\n",
              "        docLink.innerHTML = docLinkHtml;\n",
              "        element.appendChild(docLink);\n",
              "      }\n",
              "    </script>\n",
              "  </div>\n",
              "\n",
              "\n",
              "<div id=\"df-a8336f67-b7c0-4553-b491-10c23ce31c04\">\n",
              "  <button class=\"colab-df-quickchart\" onclick=\"quickchart('df-a8336f67-b7c0-4553-b491-10c23ce31c04')\"\n",
              "            title=\"Suggest charts\"\n",
              "            style=\"display:none;\">\n",
              "\n",
              "<svg xmlns=\"http://www.w3.org/2000/svg\" height=\"24px\"viewBox=\"0 0 24 24\"\n",
              "     width=\"24px\">\n",
              "    <g>\n",
              "        <path d=\"M19 3H5c-1.1 0-2 .9-2 2v14c0 1.1.9 2 2 2h14c1.1 0 2-.9 2-2V5c0-1.1-.9-2-2-2zM9 17H7v-7h2v7zm4 0h-2V7h2v10zm4 0h-2v-4h2v4z\"/>\n",
              "    </g>\n",
              "</svg>\n",
              "  </button>\n",
              "\n",
              "<style>\n",
              "  .colab-df-quickchart {\n",
              "      --bg-color: #E8F0FE;\n",
              "      --fill-color: #1967D2;\n",
              "      --hover-bg-color: #E2EBFA;\n",
              "      --hover-fill-color: #174EA6;\n",
              "      --disabled-fill-color: #AAA;\n",
              "      --disabled-bg-color: #DDD;\n",
              "  }\n",
              "\n",
              "  [theme=dark] .colab-df-quickchart {\n",
              "      --bg-color: #3B4455;\n",
              "      --fill-color: #D2E3FC;\n",
              "      --hover-bg-color: #434B5C;\n",
              "      --hover-fill-color: #FFFFFF;\n",
              "      --disabled-bg-color: #3B4455;\n",
              "      --disabled-fill-color: #666;\n",
              "  }\n",
              "\n",
              "  .colab-df-quickchart {\n",
              "    background-color: var(--bg-color);\n",
              "    border: none;\n",
              "    border-radius: 50%;\n",
              "    cursor: pointer;\n",
              "    display: none;\n",
              "    fill: var(--fill-color);\n",
              "    height: 32px;\n",
              "    padding: 0;\n",
              "    width: 32px;\n",
              "  }\n",
              "\n",
              "  .colab-df-quickchart:hover {\n",
              "    background-color: var(--hover-bg-color);\n",
              "    box-shadow: 0 1px 2px rgba(60, 64, 67, 0.3), 0 1px 3px 1px rgba(60, 64, 67, 0.15);\n",
              "    fill: var(--button-hover-fill-color);\n",
              "  }\n",
              "\n",
              "  .colab-df-quickchart-complete:disabled,\n",
              "  .colab-df-quickchart-complete:disabled:hover {\n",
              "    background-color: var(--disabled-bg-color);\n",
              "    fill: var(--disabled-fill-color);\n",
              "    box-shadow: none;\n",
              "  }\n",
              "\n",
              "  .colab-df-spinner {\n",
              "    border: 2px solid var(--fill-color);\n",
              "    border-color: transparent;\n",
              "    border-bottom-color: var(--fill-color);\n",
              "    animation:\n",
              "      spin 1s steps(1) infinite;\n",
              "  }\n",
              "\n",
              "  @keyframes spin {\n",
              "    0% {\n",
              "      border-color: transparent;\n",
              "      border-bottom-color: var(--fill-color);\n",
              "      border-left-color: var(--fill-color);\n",
              "    }\n",
              "    20% {\n",
              "      border-color: transparent;\n",
              "      border-left-color: var(--fill-color);\n",
              "      border-top-color: var(--fill-color);\n",
              "    }\n",
              "    30% {\n",
              "      border-color: transparent;\n",
              "      border-left-color: var(--fill-color);\n",
              "      border-top-color: var(--fill-color);\n",
              "      border-right-color: var(--fill-color);\n",
              "    }\n",
              "    40% {\n",
              "      border-color: transparent;\n",
              "      border-right-color: var(--fill-color);\n",
              "      border-top-color: var(--fill-color);\n",
              "    }\n",
              "    60% {\n",
              "      border-color: transparent;\n",
              "      border-right-color: var(--fill-color);\n",
              "    }\n",
              "    80% {\n",
              "      border-color: transparent;\n",
              "      border-right-color: var(--fill-color);\n",
              "      border-bottom-color: var(--fill-color);\n",
              "    }\n",
              "    90% {\n",
              "      border-color: transparent;\n",
              "      border-bottom-color: var(--fill-color);\n",
              "    }\n",
              "  }\n",
              "</style>\n",
              "\n",
              "  <script>\n",
              "    async function quickchart(key) {\n",
              "      const quickchartButtonEl =\n",
              "        document.querySelector('#' + key + ' button');\n",
              "      quickchartButtonEl.disabled = true;  // To prevent multiple clicks.\n",
              "      quickchartButtonEl.classList.add('colab-df-spinner');\n",
              "      try {\n",
              "        const charts = await google.colab.kernel.invokeFunction(\n",
              "            'suggestCharts', [key], {});\n",
              "      } catch (error) {\n",
              "        console.error('Error during call to suggestCharts:', error);\n",
              "      }\n",
              "      quickchartButtonEl.classList.remove('colab-df-spinner');\n",
              "      quickchartButtonEl.classList.add('colab-df-quickchart-complete');\n",
              "    }\n",
              "    (() => {\n",
              "      let quickchartButtonEl =\n",
              "        document.querySelector('#df-a8336f67-b7c0-4553-b491-10c23ce31c04 button');\n",
              "      quickchartButtonEl.style.display =\n",
              "        google.colab.kernel.accessAllowed ? 'block' : 'none';\n",
              "    })();\n",
              "  </script>\n",
              "</div>\n",
              "    </div>\n",
              "  </div>\n"
            ],
            "application/vnd.google.colaboratory.intrinsic+json": {
              "type": "dataframe",
              "variable_name": "df_test",
              "summary": "{\n  \"name\": \"df_test\",\n  \"rows\": 10000,\n  \"fields\": [\n    {\n      \"column\": \"ID\",\n      \"properties\": {\n        \"dtype\": \"number\",\n        \"std\": 2885,\n        \"min\": 10000,\n        \"max\": 19997,\n        \"num_unique_values\": 6343,\n        \"samples\": [\n          19453,\n          15512,\n          19055\n        ],\n        \"semantic_type\": \"\",\n        \"description\": \"\"\n      }\n    },\n    {\n      \"column\": \"feature 1\",\n      \"properties\": {\n        \"dtype\": \"number\",\n        \"std\": 22.07611416832664,\n        \"min\": -93.00905409971706,\n        \"max\": 86.92160624412423,\n        \"num_unique_values\": 10000,\n        \"samples\": [\n          17.643252900649866,\n          -13.26499068618417,\n          -19.434507029011808\n        ],\n        \"semantic_type\": \"\",\n        \"description\": \"\"\n      }\n    },\n    {\n      \"column\": \"feature 2\",\n      \"properties\": {\n        \"dtype\": \"number\",\n        \"std\": 4.049632188036935,\n        \"min\": -15.162143939898664,\n        \"max\": 15.746175650377769,\n        \"num_unique_values\": 10000,\n        \"samples\": [\n          -6.8006793857663945,\n          2.5155963174625198,\n          -7.897028101498416\n        ],\n        \"semantic_type\": \"\",\n        \"description\": \"\"\n      }\n    },\n    {\n      \"column\": \"feature 3\",\n      \"properties\": {\n        \"dtype\": \"number\",\n        \"std\": 56.02299372596491,\n        \"min\": -185.77737688521148,\n        \"max\": 228.33437117427752,\n        \"num_unique_values\": 10000,\n        \"samples\": [\n          13.841921939238013,\n          -57.96904559569605,\n          77.1955047707414\n        ],\n        \"semantic_type\": \"\",\n        \"description\": \"\"\n      }\n    }\n  ]\n}"
            }
          },
          "metadata": {},
          "execution_count": 83
        }
      ]
    },
    {
      "cell_type": "code",
      "source": [
        "x_test=df_test.drop(['ID'],axis=1).values\n",
        "x_test"
      ],
      "metadata": {
        "colab": {
          "base_uri": "https://localhost:8080/"
        },
        "id": "j8xjVbtPRw0Q",
        "outputId": "40453056-a96e-49b8-cd7d-92f939fa6fd9"
      },
      "execution_count": 84,
      "outputs": [
        {
          "output_type": "execute_result",
          "data": {
            "text/plain": [
              "array([[ 36.24764264,  -2.37270368,  43.83594722],\n",
              "       [  5.90377936,   5.46008554, -96.14941417],\n",
              "       [-37.29815674,   6.869786  , -14.08448749],\n",
              "       ...,\n",
              "       [ 47.09519214,  -1.97746088,  39.04490212],\n",
              "       [ -1.80817812,  -0.69378162,  57.91862776],\n",
              "       [ 19.95803371,   2.29451622, -16.08254613]])"
            ]
          },
          "metadata": {},
          "execution_count": 84
        }
      ]
    },
    {
      "cell_type": "code",
      "source": [
        "x_test_poly1=np.delete((fit_polynomial(x_test,6)),0,axis=1)\n",
        "x_test_poly1"
      ],
      "metadata": {
        "id": "ELVesmqDzTIL",
        "colab": {
          "base_uri": "https://localhost:8080/"
        },
        "outputId": "df6b2678-7a5b-47fd-a9b1-9dd8fd1bd944"
      },
      "execution_count": 87,
      "outputs": [
        {
          "output_type": "execute_result",
          "data": {
            "text/plain": [
              "array([[ 4.38359472e+01,  1.92159027e+03,  8.42347296e+04, ...,\n",
              "         2.74302164e+09, -1.48471242e+08,  2.26818569e+09],\n",
              "       [-9.61494142e+01,  9.24470985e+03, -8.88873436e+05, ...,\n",
              "        -6.89599970e+05,  3.91606632e+04,  4.23429108e+04],\n",
              "       [-1.40844875e+01,  1.98372788e+02, -2.79397905e+03, ...,\n",
              "         1.01666506e+09, -4.95883956e+08,  2.69230475e+09],\n",
              "       ...,\n",
              "       [ 3.90449021e+01,  1.52450438e+03,  5.95241244e+04, ...,\n",
              "         9.04580463e+09, -4.58132146e+08,  1.09108714e+10],\n",
              "       [ 5.79186278e+01,  3.35456744e+03,  1.94291943e+05, ...,\n",
              "        -1.11950055e+03,  1.34100018e+01,  3.49500063e+01],\n",
              "       [-1.60825461e+01,  2.58648290e+02, -4.15972306e+03, ...,\n",
              "        -5.09264689e+07,  7.26574063e+06,  6.31984622e+07]])"
            ]
          },
          "metadata": {},
          "execution_count": 87
        }
      ]
    },
    {
      "cell_type": "code",
      "source": [
        "x_test_poly=normalisation(x_test_poly1)\n",
        "x_test_poly"
      ],
      "metadata": {
        "colab": {
          "base_uri": "https://localhost:8080/"
        },
        "id": "HAHj-d3JhQHm",
        "outputId": "997c1fa8-cc5e-4a9f-ff34-3c056e5a10b8"
      },
      "execution_count": 89,
      "outputs": [
        {
          "output_type": "execute_result",
          "data": {
            "text/plain": [
              "array([[ 7.73641787e-01, -2.75159371e-01,  1.14920382e-01, ...,\n",
              "         3.69112738e-01, -2.21588948e-01,  6.04630599e-02],\n",
              "       [-1.72519578e+00,  1.38068335e+00, -1.33341709e+00, ...,\n",
              "        -1.79935751e-04, -1.21246007e-02, -1.40927084e-01],\n",
              "       [-2.60278879e-01, -6.64798934e-01, -1.46098637e-02, ...,\n",
              "         1.36751975e-01, -7.11592182e-01,  9.81209092e-02],\n",
              "       ...,\n",
              "       [ 6.88118248e-01, -3.64945119e-01,  7.81420495e-02, ...,\n",
              "         1.21744238e+00, -6.58345688e-01,  8.27853593e-01],\n",
              "       [ 1.02502758e+00,  4.88534760e-02,  2.78725385e-01, ...,\n",
              "        -8.72690046e-05, -1.21798153e-02, -1.40930841e-01],\n",
              "       [-2.95945637e-01, -6.51169941e-01, -1.66425855e-02, ...,\n",
              "        -6.94161949e-03, -1.93197554e-03, -1.35319405e-01]])"
            ]
          },
          "metadata": {},
          "execution_count": 89
        }
      ]
    },
    {
      "cell_type": "code",
      "source": [
        "y_test_pred=predict(x_test_poly,w,b)\n",
        "y_test_pred"
      ],
      "metadata": {
        "colab": {
          "base_uri": "https://localhost:8080/"
        },
        "id": "0eHZZFjShVqy",
        "outputId": "ecc3a4ee-669b-4a76-e903-5f67ed3a7334"
      },
      "execution_count": 91,
      "outputs": [
        {
          "output_type": "execute_result",
          "data": {
            "text/plain": [
              "array([ 116634.71681599,  468346.83502262, -536574.2221998 , ...,\n",
              "        549346.51770683, -546556.99138196, -253368.23713555])"
            ]
          },
          "metadata": {},
          "execution_count": 91
        }
      ]
    }
  ]
}